{
 "cells": [
  {
   "cell_type": "code",
   "execution_count": 1,
   "id": "4f5bee81",
   "metadata": {},
   "outputs": [
    {
     "data": {
      "application/javascript": [
       "\n",
       "            setTimeout(function() {\n",
       "                var nbb_cell_id = 1;\n",
       "                var nbb_unformatted_code = \"%load_ext nb_black\";\n",
       "                var nbb_formatted_code = \"%load_ext nb_black\";\n",
       "                var nbb_cells = Jupyter.notebook.get_cells();\n",
       "                for (var i = 0; i < nbb_cells.length; ++i) {\n",
       "                    if (nbb_cells[i].input_prompt_number == nbb_cell_id) {\n",
       "                        if (nbb_cells[i].get_text() == nbb_unformatted_code) {\n",
       "                             nbb_cells[i].set_text(nbb_formatted_code);\n",
       "                        }\n",
       "                        break;\n",
       "                    }\n",
       "                }\n",
       "            }, 500);\n",
       "            "
      ],
      "text/plain": [
       "<IPython.core.display.Javascript object>"
      ]
     },
     "metadata": {},
     "output_type": "display_data"
    }
   ],
   "source": [
    "%load_ext nb_black"
   ]
  },
  {
   "cell_type": "code",
   "execution_count": 2,
   "id": "ad3c25da",
   "metadata": {},
   "outputs": [
    {
     "name": "stderr",
     "output_type": "stream",
     "text": [
      "/Users/suatakbulut/miniconda3/lib/python3.10/site-packages/scipy/__init__.py:146: UserWarning: A NumPy version >=1.16.5 and <1.23.0 is required for this version of SciPy (detected version 1.23.4\n",
      "  warnings.warn(f\"A NumPy version >={np_minversion} and <{np_maxversion}\"\n"
     ]
    },
    {
     "data": {
      "application/javascript": [
       "\n",
       "            setTimeout(function() {\n",
       "                var nbb_cell_id = 2;\n",
       "                var nbb_unformatted_code = \"import warnings\\n\\nimport sys\\n\\nsys.path.insert(0, \\\"../code_workspace\\\")\\n\\nfrom data_prep import *\\nfrom post_analysis import *\\n\\nwarnings.filterwarnings(\\\"ignore\\\")\";\n",
       "                var nbb_formatted_code = \"import warnings\\n\\nimport sys\\n\\nsys.path.insert(0, \\\"../code_workspace\\\")\\n\\nfrom data_prep import *\\nfrom post_analysis import *\\n\\nwarnings.filterwarnings(\\\"ignore\\\")\";\n",
       "                var nbb_cells = Jupyter.notebook.get_cells();\n",
       "                for (var i = 0; i < nbb_cells.length; ++i) {\n",
       "                    if (nbb_cells[i].input_prompt_number == nbb_cell_id) {\n",
       "                        if (nbb_cells[i].get_text() == nbb_unformatted_code) {\n",
       "                             nbb_cells[i].set_text(nbb_formatted_code);\n",
       "                        }\n",
       "                        break;\n",
       "                    }\n",
       "                }\n",
       "            }, 500);\n",
       "            "
      ],
      "text/plain": [
       "<IPython.core.display.Javascript object>"
      ]
     },
     "metadata": {},
     "output_type": "display_data"
    }
   ],
   "source": [
    "import warnings\n",
    "\n",
    "import sys\n",
    "\n",
    "sys.path.insert(0, \"../code_workspace\")\n",
    "\n",
    "from data_prep import *\n",
    "from post_analysis import *\n",
    "\n",
    "warnings.filterwarnings(\"ignore\")"
   ]
  },
  {
   "cell_type": "code",
   "execution_count": 3,
   "id": "a29ab7af",
   "metadata": {},
   "outputs": [
    {
     "data": {
      "application/javascript": [
       "\n",
       "            setTimeout(function() {\n",
       "                var nbb_cell_id = 3;\n",
       "                var nbb_unformatted_code = \"use_saved_one = True\\nunwanted_column_endings = []\\ntest_size = 0.4\\nmodels_path = \\\"../trained_models/results_df_0.77_AUC_0.61_Rec.pkl\\\"\";\n",
       "                var nbb_formatted_code = \"use_saved_one = True\\nunwanted_column_endings = []\\ntest_size = 0.4\\nmodels_path = \\\"../trained_models/results_df_0.77_AUC_0.61_Rec.pkl\\\"\";\n",
       "                var nbb_cells = Jupyter.notebook.get_cells();\n",
       "                for (var i = 0; i < nbb_cells.length; ++i) {\n",
       "                    if (nbb_cells[i].input_prompt_number == nbb_cell_id) {\n",
       "                        if (nbb_cells[i].get_text() == nbb_unformatted_code) {\n",
       "                             nbb_cells[i].set_text(nbb_formatted_code);\n",
       "                        }\n",
       "                        break;\n",
       "                    }\n",
       "                }\n",
       "            }, 500);\n",
       "            "
      ],
      "text/plain": [
       "<IPython.core.display.Javascript object>"
      ]
     },
     "metadata": {},
     "output_type": "display_data"
    }
   ],
   "source": [
    "use_saved_one = True\n",
    "unwanted_column_endings = []\n",
    "test_size = 0.4\n",
    "models_path = \"../trained_models/results_df_0.77_AUC_0.61_Rec.pkl\""
   ]
  },
  {
   "cell_type": "code",
   "execution_count": 4,
   "id": "8eab8fd7",
   "metadata": {},
   "outputs": [
    {
     "name": "stdout",
     "output_type": "stream",
     "text": [
      "\n",
      "DATA PREP\n",
      "=========\n",
      "\n",
      "Loading processed data from ../data/processed_dataset.pkl..\n",
      "Excluding the following columns..\n",
      "['patient_id', 'Outcome 30 days Hospitalization', 'Height(in)', 'Weight(lbs)']\n",
      "Shapes: X_train: (108861, 136) - X_test: (72574, 136)\n"
     ]
    },
    {
     "data": {
      "application/javascript": [
       "\n",
       "            setTimeout(function() {\n",
       "                var nbb_cell_id = 4;\n",
       "                var nbb_unformatted_code = \"X_train, X_test, y_train, y_test = prepare_train_test_split(\\n    use_saved_one=use_saved_one,\\n    unwanted_column_endings=unwanted_column_endings,\\n    test_size=test_size,\\n)\";\n",
       "                var nbb_formatted_code = \"X_train, X_test, y_train, y_test = prepare_train_test_split(\\n    use_saved_one=use_saved_one,\\n    unwanted_column_endings=unwanted_column_endings,\\n    test_size=test_size,\\n)\";\n",
       "                var nbb_cells = Jupyter.notebook.get_cells();\n",
       "                for (var i = 0; i < nbb_cells.length; ++i) {\n",
       "                    if (nbb_cells[i].input_prompt_number == nbb_cell_id) {\n",
       "                        if (nbb_cells[i].get_text() == nbb_unformatted_code) {\n",
       "                             nbb_cells[i].set_text(nbb_formatted_code);\n",
       "                        }\n",
       "                        break;\n",
       "                    }\n",
       "                }\n",
       "            }, 500);\n",
       "            "
      ],
      "text/plain": [
       "<IPython.core.display.Javascript object>"
      ]
     },
     "metadata": {},
     "output_type": "display_data"
    }
   ],
   "source": [
    "X_train, X_test, y_train, y_test = prepare_train_test_split(\n",
    "    use_saved_one=use_saved_one,\n",
    "    unwanted_column_endings=unwanted_column_endings,\n",
    "    test_size=test_size,\n",
    ")"
   ]
  },
  {
   "cell_type": "code",
   "execution_count": 5,
   "id": "5278afbd",
   "metadata": {},
   "outputs": [
    {
     "data": {
      "text/html": [
       "<div>\n",
       "<style scoped>\n",
       "    .dataframe tbody tr th:only-of-type {\n",
       "        vertical-align: middle;\n",
       "    }\n",
       "\n",
       "    .dataframe tbody tr th {\n",
       "        vertical-align: top;\n",
       "    }\n",
       "\n",
       "    .dataframe thead th {\n",
       "        text-align: right;\n",
       "    }\n",
       "</style>\n",
       "<table border=\"1\" class=\"dataframe\">\n",
       "  <thead>\n",
       "    <tr style=\"text-align: right;\">\n",
       "      <th></th>\n",
       "      <th>AUC</th>\n",
       "      <th>Recall</th>\n",
       "      <th>Precision</th>\n",
       "      <th>F1_Score</th>\n",
       "      <th>Accuracy</th>\n",
       "    </tr>\n",
       "    <tr>\n",
       "      <th>classifier_class</th>\n",
       "      <th></th>\n",
       "      <th></th>\n",
       "      <th></th>\n",
       "      <th></th>\n",
       "      <th></th>\n",
       "    </tr>\n",
       "  </thead>\n",
       "  <tbody>\n",
       "    <tr>\n",
       "      <th>RandomForestClassifier</th>\n",
       "      <td>0.769360</td>\n",
       "      <td>0.606889</td>\n",
       "      <td>0.674594</td>\n",
       "      <td>0.638952</td>\n",
       "      <td>0.706686</td>\n",
       "    </tr>\n",
       "    <tr>\n",
       "      <th>DecisionTreeClassifier</th>\n",
       "      <td>0.734679</td>\n",
       "      <td>0.566614</td>\n",
       "      <td>0.644530</td>\n",
       "      <td>0.603066</td>\n",
       "      <td>0.681015</td>\n",
       "    </tr>\n",
       "    <tr>\n",
       "      <th>GaussianNB</th>\n",
       "      <td>0.652868</td>\n",
       "      <td>0.560331</td>\n",
       "      <td>0.552130</td>\n",
       "      <td>0.556201</td>\n",
       "      <td>0.617590</td>\n",
       "    </tr>\n",
       "    <tr>\n",
       "      <th>QuadraticDiscriminantAnalysis</th>\n",
       "      <td>0.693367</td>\n",
       "      <td>0.521378</td>\n",
       "      <td>0.597497</td>\n",
       "      <td>0.556848</td>\n",
       "      <td>0.645107</td>\n",
       "    </tr>\n",
       "    <tr>\n",
       "      <th>GradientBoostingClassifier</th>\n",
       "      <td>0.750243</td>\n",
       "      <td>0.479879</td>\n",
       "      <td>0.695461</td>\n",
       "      <td>0.567899</td>\n",
       "      <td>0.687698</td>\n",
       "    </tr>\n",
       "    <tr>\n",
       "      <th>LogisticRegression</th>\n",
       "      <td>0.712588</td>\n",
       "      <td>0.449399</td>\n",
       "      <td>0.651015</td>\n",
       "      <td>0.531737</td>\n",
       "      <td>0.661504</td>\n",
       "    </tr>\n",
       "  </tbody>\n",
       "</table>\n",
       "</div>"
      ],
      "text/plain": [
       "                                    AUC    Recall  Precision  F1_Score  \\\n",
       "classifier_class                                                         \n",
       "RandomForestClassifier         0.769360  0.606889   0.674594  0.638952   \n",
       "DecisionTreeClassifier         0.734679  0.566614   0.644530  0.603066   \n",
       "GaussianNB                     0.652868  0.560331   0.552130  0.556201   \n",
       "QuadraticDiscriminantAnalysis  0.693367  0.521378   0.597497  0.556848   \n",
       "GradientBoostingClassifier     0.750243  0.479879   0.695461  0.567899   \n",
       "LogisticRegression             0.712588  0.449399   0.651015  0.531737   \n",
       "\n",
       "                               Accuracy  \n",
       "classifier_class                         \n",
       "RandomForestClassifier         0.706686  \n",
       "DecisionTreeClassifier         0.681015  \n",
       "GaussianNB                     0.617590  \n",
       "QuadraticDiscriminantAnalysis  0.645107  \n",
       "GradientBoostingClassifier     0.687698  \n",
       "LogisticRegression             0.661504  "
      ]
     },
     "execution_count": 5,
     "metadata": {},
     "output_type": "execute_result"
    },
    {
     "data": {
      "application/javascript": [
       "\n",
       "            setTimeout(function() {\n",
       "                var nbb_cell_id = 5;\n",
       "                var nbb_unformatted_code = \"if not os.path.exists(models_path):\\n    raise ValueError(f\\\"Trained model path {model_path} does not exist.\\\")\\n\\nresults_df = pd.read_pickle(models_path)\\nresults_df.set_index(\\\"classifier_class\\\", drop=True)[\\n    [\\\"AUC\\\", \\\"Recall\\\", \\\"Precision\\\", \\\"F1_Score\\\", \\\"Accuracy\\\"]\\n]\";\n",
       "                var nbb_formatted_code = \"if not os.path.exists(models_path):\\n    raise ValueError(f\\\"Trained model path {model_path} does not exist.\\\")\\n\\nresults_df = pd.read_pickle(models_path)\\nresults_df.set_index(\\\"classifier_class\\\", drop=True)[\\n    [\\\"AUC\\\", \\\"Recall\\\", \\\"Precision\\\", \\\"F1_Score\\\", \\\"Accuracy\\\"]\\n]\";\n",
       "                var nbb_cells = Jupyter.notebook.get_cells();\n",
       "                for (var i = 0; i < nbb_cells.length; ++i) {\n",
       "                    if (nbb_cells[i].input_prompt_number == nbb_cell_id) {\n",
       "                        if (nbb_cells[i].get_text() == nbb_unformatted_code) {\n",
       "                             nbb_cells[i].set_text(nbb_formatted_code);\n",
       "                        }\n",
       "                        break;\n",
       "                    }\n",
       "                }\n",
       "            }, 500);\n",
       "            "
      ],
      "text/plain": [
       "<IPython.core.display.Javascript object>"
      ]
     },
     "metadata": {},
     "output_type": "display_data"
    }
   ],
   "source": [
    "if not os.path.exists(models_path):\n",
    "    raise ValueError(f\"Trained model path {model_path} does not exist.\")\n",
    "\n",
    "results_df = pd.read_pickle(models_path)\n",
    "results_df.set_index(\"classifier_class\", drop=True)[\n",
    "    [\"AUC\", \"Recall\", \"Precision\", \"F1_Score\", \"Accuracy\"]\n",
    "]"
   ]
  },
  {
   "cell_type": "code",
   "execution_count": 6,
   "id": "74f9d16f",
   "metadata": {},
   "outputs": [
    {
     "data": {
      "application/javascript": [
       "\n",
       "            setTimeout(function() {\n",
       "                var nbb_cell_id = 6;\n",
       "                var nbb_unformatted_code = \"best_model = (\\n    results_df[results_df.classifier_class == \\\"RandomForestClassifier\\\"]\\n    .trained_model.values[0]\\n    .best_estimator_\\n)\\n\\nbest_predictor = best_model.named_steps[\\\"predictor\\\"]\";\n",
       "                var nbb_formatted_code = \"best_model = (\\n    results_df[results_df.classifier_class == \\\"RandomForestClassifier\\\"]\\n    .trained_model.values[0]\\n    .best_estimator_\\n)\\n\\nbest_predictor = best_model.named_steps[\\\"predictor\\\"]\";\n",
       "                var nbb_cells = Jupyter.notebook.get_cells();\n",
       "                for (var i = 0; i < nbb_cells.length; ++i) {\n",
       "                    if (nbb_cells[i].input_prompt_number == nbb_cell_id) {\n",
       "                        if (nbb_cells[i].get_text() == nbb_unformatted_code) {\n",
       "                             nbb_cells[i].set_text(nbb_formatted_code);\n",
       "                        }\n",
       "                        break;\n",
       "                    }\n",
       "                }\n",
       "            }, 500);\n",
       "            "
      ],
      "text/plain": [
       "<IPython.core.display.Javascript object>"
      ]
     },
     "metadata": {},
     "output_type": "display_data"
    }
   ],
   "source": [
    "best_model = (\n",
    "    results_df[results_df.classifier_class == \"RandomForestClassifier\"]\n",
    "    .trained_model.values[0]\n",
    "    .best_estimator_\n",
    ")\n",
    "\n",
    "best_predictor = best_model.named_steps[\"predictor\"]"
   ]
  },
  {
   "cell_type": "code",
   "execution_count": 8,
   "id": "ee412d16",
   "metadata": {},
   "outputs": [
    {
     "name": "stdout",
     "output_type": "stream",
     "text": [
      "Elapsed time to compute feature importances: 0.00 mins\n"
     ]
    },
    {
     "name": "stderr",
     "output_type": "stream",
     "text": [
      "/Users/suatakbulut/miniconda3/lib/python3.10/site-packages/scipy/__init__.py:146: UserWarning: A NumPy version >=1.16.5 and <1.23.0 is required for this version of SciPy (detected version 1.23.4\n",
      "  warnings.warn(f\"A NumPy version >={np_minversion} and <{np_maxversion}\"\n"
     ]
    },
    {
     "name": "stdout",
     "output_type": "stream",
     "text": [
      "Elapsed time to compute permutation importances: 2.45 mins\n"
     ]
    },
    {
     "data": {
      "application/javascript": [
       "\n",
       "            setTimeout(function() {\n",
       "                var nbb_cell_id = 8;\n",
       "                var nbb_unformatted_code = \"_, _, feature_importance_labels = feature_importance_top10(best_model, X_test, y_test)\\n_, permutation_importance_labels = permutation_importance_top10(best_model, X_test, y_test)\";\n",
       "                var nbb_formatted_code = \"_, _, feature_importance_labels = feature_importance_top10(best_model, X_test, y_test)\\n_, permutation_importance_labels = permutation_importance_top10(\\n    best_model, X_test, y_test\\n)\";\n",
       "                var nbb_cells = Jupyter.notebook.get_cells();\n",
       "                for (var i = 0; i < nbb_cells.length; ++i) {\n",
       "                    if (nbb_cells[i].input_prompt_number == nbb_cell_id) {\n",
       "                        if (nbb_cells[i].get_text() == nbb_unformatted_code) {\n",
       "                             nbb_cells[i].set_text(nbb_formatted_code);\n",
       "                        }\n",
       "                        break;\n",
       "                    }\n",
       "                }\n",
       "            }, 500);\n",
       "            "
      ],
      "text/plain": [
       "<IPython.core.display.Javascript object>"
      ]
     },
     "metadata": {},
     "output_type": "display_data"
    }
   ],
   "source": [
    "_, _, feature_importance_labels = feature_importance_top10(best_model, X_test, y_test)\n",
    "_, permutation_importance_labels = permutation_importance_top10(\n",
    "    best_model, X_test, y_test\n",
    ")"
   ]
  },
  {
   "cell_type": "code",
   "execution_count": 9,
   "id": "9fcb7ae9",
   "metadata": {},
   "outputs": [
    {
     "name": "stdout",
     "output_type": "stream",
     "text": [
      "Optimization terminated successfully.\n",
      "         Current function value: 0.625158\n",
      "         Iterations 5\n"
     ]
    },
    {
     "data": {
      "application/javascript": [
       "\n",
       "            setTimeout(function() {\n",
       "                var nbb_cell_id = 9;\n",
       "                var nbb_unformatted_code = \"imp_features = list(set(feature_importance_labels).union(set(permutation_importance_labels)))\\n\\nX_train = X_train[imp_features]\\nX_test = X_test[imp_features]\\n\\npreprocessor = get_preprocessor()\\n\\nX_train = preprocessor.fit_transform(X_train)\\nX_test = preprocessor.transform(X_test)\\n\\nlogit = sm.Logit(y_train, sm.add_constant(X_train)).fit()\";\n",
       "                var nbb_formatted_code = \"imp_features = list(\\n    set(feature_importance_labels).union(set(permutation_importance_labels))\\n)\\n\\nX_train = X_train[imp_features]\\nX_test = X_test[imp_features]\\n\\npreprocessor = get_preprocessor()\\n\\nX_train = preprocessor.fit_transform(X_train)\\nX_test = preprocessor.transform(X_test)\\n\\nlogit = sm.Logit(y_train, sm.add_constant(X_train)).fit()\";\n",
       "                var nbb_cells = Jupyter.notebook.get_cells();\n",
       "                for (var i = 0; i < nbb_cells.length; ++i) {\n",
       "                    if (nbb_cells[i].input_prompt_number == nbb_cell_id) {\n",
       "                        if (nbb_cells[i].get_text() == nbb_unformatted_code) {\n",
       "                             nbb_cells[i].set_text(nbb_formatted_code);\n",
       "                        }\n",
       "                        break;\n",
       "                    }\n",
       "                }\n",
       "            }, 500);\n",
       "            "
      ],
      "text/plain": [
       "<IPython.core.display.Javascript object>"
      ]
     },
     "metadata": {},
     "output_type": "display_data"
    }
   ],
   "source": [
    "imp_features = list(\n",
    "    set(feature_importance_labels).union(set(permutation_importance_labels))\n",
    ")\n",
    "\n",
    "X_train = X_train[imp_features]\n",
    "X_test = X_test[imp_features]\n",
    "\n",
    "preprocessor = get_preprocessor()\n",
    "\n",
    "X_train = preprocessor.fit_transform(X_train)\n",
    "X_test = preprocessor.transform(X_test)\n",
    "\n",
    "logit = sm.Logit(y_train, sm.add_constant(X_train)).fit()"
   ]
  },
  {
   "cell_type": "code",
   "execution_count": 10,
   "id": "410a6faf",
   "metadata": {},
   "outputs": [
    {
     "name": "stdout",
     "output_type": "stream",
     "text": [
      "                                  Logit Regression Results                                 \n",
      "===========================================================================================\n",
      "Dep. Variable:     Outcome 30 days Hospitalization   No. Observations:               108861\n",
      "Model:                                       Logit   Df Residuals:                   108848\n",
      "Method:                                        MLE   Df Model:                           12\n",
      "Date:                             Mon, 14 Aug 2023   Pseudo R-squ.:                 0.08279\n",
      "Time:                                     17:59:51   Log-Likelihood:                -68055.\n",
      "converged:                                    True   LL-Null:                       -74199.\n",
      "Covariance Type:                         nonrobust   LLR p-value:                     0.000\n",
      "================================================================================================================\n",
      "                                                   coef    std err          z      P>|z|      [0.025      0.975]\n",
      "----------------------------------------------------------------------------------------------------------------\n",
      "const                                           -0.3422      0.007    -52.049      0.000      -0.355      -0.329\n",
      "Not Hispanic or Latino                           0.0018      0.007      0.258      0.796      -0.012       0.015\n",
      "num_isPresents                                   0.3333      0.009     36.025      0.000       0.315       0.351\n",
      "White                                           -0.1989      0.007    -29.492      0.000      -0.212      -0.186\n",
      "age                                              0.0211      0.007      3.215      0.001       0.008       0.034\n",
      "bmi_std                                          0.1174      0.008     14.776      0.000       0.102       0.133\n",
      "dates_range                                     -0.0485      0.007     -6.687      0.000      -0.063      -0.034\n",
      "smoking_isPresent                                0.2369      0.007     33.065      0.000       0.223       0.251\n",
      "dates_nunique                                   -0.0815      0.009     -9.128      0.000      -0.099      -0.064\n",
      "weight_avg                                       0.0274      0.017      1.583      0.113      -0.007       0.061\n",
      "t1diabetes_isPresent                             0.4715      0.010     46.358      0.000       0.452       0.491\n",
      "ChronicObstructivePulmonaryDisease_isPresent    -0.8594      0.011    -77.701      0.000      -0.881      -0.838\n",
      "bmi_avg                                         -0.1015      0.017     -5.872      0.000      -0.135      -0.068\n",
      "================================================================================================================\n",
      "\n",
      "\n",
      "===========================\n",
      "== Test Set vs Train Set ==\n",
      "AUC Score : 0.6948 | 0.6958\n",
      "Recall    : 0.4016 | 0.4040\n",
      "F1 Score  : 0.4959 | 0.4965\n",
      "Accuracy  : 0.6508 | 0.6524\n",
      "Precision : 0.6481 | 0.6438\n",
      "===========================\n",
      "\n"
     ]
    },
    {
     "data": {
      "application/javascript": [
       "\n",
       "            setTimeout(function() {\n",
       "                var nbb_cell_id = 10;\n",
       "                var nbb_unformatted_code = \"print_logit_results(logit, X_train, X_test, y_train, y_test, imp_features)\";\n",
       "                var nbb_formatted_code = \"print_logit_results(logit, X_train, X_test, y_train, y_test, imp_features)\";\n",
       "                var nbb_cells = Jupyter.notebook.get_cells();\n",
       "                for (var i = 0; i < nbb_cells.length; ++i) {\n",
       "                    if (nbb_cells[i].input_prompt_number == nbb_cell_id) {\n",
       "                        if (nbb_cells[i].get_text() == nbb_unformatted_code) {\n",
       "                             nbb_cells[i].set_text(nbb_formatted_code);\n",
       "                        }\n",
       "                        break;\n",
       "                    }\n",
       "                }\n",
       "            }, 500);\n",
       "            "
      ],
      "text/plain": [
       "<IPython.core.display.Javascript object>"
      ]
     },
     "metadata": {},
     "output_type": "display_data"
    }
   ],
   "source": [
    "print_logit_results(logit, X_train, X_test, y_train, y_test, imp_features)"
   ]
  },
  {
   "cell_type": "code",
   "execution_count": 14,
   "id": "cf8d9883",
   "metadata": {},
   "outputs": [
    {
     "data": {
      "text/plain": [
       "(108861, 12)"
      ]
     },
     "execution_count": 14,
     "metadata": {},
     "output_type": "execute_result"
    },
    {
     "data": {
      "application/javascript": [
       "\n",
       "            setTimeout(function() {\n",
       "                var nbb_cell_id = 14;\n",
       "                var nbb_unformatted_code = \"X_train.shape\";\n",
       "                var nbb_formatted_code = \"X_train.shape\";\n",
       "                var nbb_cells = Jupyter.notebook.get_cells();\n",
       "                for (var i = 0; i < nbb_cells.length; ++i) {\n",
       "                    if (nbb_cells[i].input_prompt_number == nbb_cell_id) {\n",
       "                        if (nbb_cells[i].get_text() == nbb_unformatted_code) {\n",
       "                             nbb_cells[i].set_text(nbb_formatted_code);\n",
       "                        }\n",
       "                        break;\n",
       "                    }\n",
       "                }\n",
       "            }, 500);\n",
       "            "
      ],
      "text/plain": [
       "<IPython.core.display.Javascript object>"
      ]
     },
     "metadata": {},
     "output_type": "display_data"
    }
   ],
   "source": [
    "X_train.shape"
   ]
  },
  {
   "cell_type": "markdown",
   "id": "37be40c2",
   "metadata": {},
   "source": [
    "### Re-fit the best model with the selected features only"
   ]
  },
  {
   "cell_type": "code",
   "execution_count": 11,
   "id": "a4795ef6",
   "metadata": {},
   "outputs": [
    {
     "name": "stdout",
     "output_type": "stream",
     "text": [
      "===========================\n",
      "== Test Set vs Train Set ==\n",
      "F1 Score  : 0.6083 | 0.8191\n",
      "AUC Score : 0.7438 | 0.9331\n",
      "Accuracy  : 0.6841 | 0.8539\n",
      "Precision : 0.6475 | 0.8628\n",
      "Recall    : 0.5736 | 0.7796\n",
      "===========================\n",
      "\n"
     ]
    },
    {
     "data": {
      "application/javascript": [
       "\n",
       "            setTimeout(function() {\n",
       "                var nbb_cell_id = 11;\n",
       "                var nbb_unformatted_code = \"best_predictor.fit(X_train, y_train)\\n\\nauc_score, f_score, accuracy, precision, recall = calculate_metrics(\\n    best_predictor, X_test, y_test\\n)\\nauc_score_tr, f_score_tr, accuracy_tr, precision_tr, recall_tr = calculate_metrics(\\n    best_predictor, X_train, y_train\\n)\\n\\nprint(\\\"===========================\\\")\\nprint(\\\"== Test Set vs Train Set ==\\\")\\nprint(f\\\"F1 Score  : {f_score:.4f} | {f_score_tr:.4f}\\\")\\nprint(f\\\"AUC Score : {auc_score:.4f} | {auc_score_tr:.4f}\\\")\\nprint(f\\\"Accuracy  : {accuracy:.4f} | {accuracy_tr:.4f}\\\")\\nprint(f\\\"Precision : {precision:.4f} | {precision_tr:.4f}\\\")\\nprint(f\\\"Recall    : {recall:.4f} | {recall_tr:.4f}\\\")\\nprint(\\\"===========================\\\\n\\\")\";\n",
       "                var nbb_formatted_code = \"best_predictor.fit(X_train, y_train)\\n\\nauc_score, f_score, accuracy, precision, recall = calculate_metrics(\\n    best_predictor, X_test, y_test\\n)\\nauc_score_tr, f_score_tr, accuracy_tr, precision_tr, recall_tr = calculate_metrics(\\n    best_predictor, X_train, y_train\\n)\\n\\nprint(\\\"===========================\\\")\\nprint(\\\"== Test Set vs Train Set ==\\\")\\nprint(f\\\"F1 Score  : {f_score:.4f} | {f_score_tr:.4f}\\\")\\nprint(f\\\"AUC Score : {auc_score:.4f} | {auc_score_tr:.4f}\\\")\\nprint(f\\\"Accuracy  : {accuracy:.4f} | {accuracy_tr:.4f}\\\")\\nprint(f\\\"Precision : {precision:.4f} | {precision_tr:.4f}\\\")\\nprint(f\\\"Recall    : {recall:.4f} | {recall_tr:.4f}\\\")\\nprint(\\\"===========================\\\\n\\\")\";\n",
       "                var nbb_cells = Jupyter.notebook.get_cells();\n",
       "                for (var i = 0; i < nbb_cells.length; ++i) {\n",
       "                    if (nbb_cells[i].input_prompt_number == nbb_cell_id) {\n",
       "                        if (nbb_cells[i].get_text() == nbb_unformatted_code) {\n",
       "                             nbb_cells[i].set_text(nbb_formatted_code);\n",
       "                        }\n",
       "                        break;\n",
       "                    }\n",
       "                }\n",
       "            }, 500);\n",
       "            "
      ],
      "text/plain": [
       "<IPython.core.display.Javascript object>"
      ]
     },
     "metadata": {},
     "output_type": "display_data"
    }
   ],
   "source": [
    "best_predictor.fit(X_train, y_train)\n",
    "\n",
    "auc_score, f_score, accuracy, precision, recall = calculate_metrics(\n",
    "    best_predictor, X_test, y_test\n",
    ")\n",
    "auc_score_tr, f_score_tr, accuracy_tr, precision_tr, recall_tr = calculate_metrics(\n",
    "    best_predictor, X_train, y_train\n",
    ")\n",
    "\n",
    "\n",
    "\n"
   ]
  },
  {
   "cell_type": "code",
   "execution_count": 13,
   "id": "7f536ecd",
   "metadata": {},
   "outputs": [
    {
     "name": "stdout",
     "output_type": "stream",
     "text": [
      "===========================\n",
      "== Test Set vs Train Set ==\n",
      "AUC Score : 0.7438 | 0.9331\n",
      "Recall    : 0.5736 | 0.7796\n",
      "F1 Score  : 0.6083 | 0.8191\n",
      "Accuracy  : 0.6841 | 0.8539\n",
      "Precision : 0.6475 | 0.8628\n"
     ]
    },
    {
     "data": {
      "application/javascript": [
       "\n",
       "            setTimeout(function() {\n",
       "                var nbb_cell_id = 13;\n",
       "                var nbb_unformatted_code = \"print(\\\"===========================\\\")\\nprint(\\\"== Test Set vs Train Set ==\\\")\\nprint(f\\\"AUC Score : {auc_score:.4f} | {auc_score_tr:.4f}\\\")\\nprint(f\\\"Recall    : {recall:.4f} | {recall_tr:.4f}\\\")\\nprint(f\\\"F1 Score  : {f_score:.4f} | {f_score_tr:.4f}\\\")\\nprint(f\\\"Accuracy  : {accuracy:.4f} | {accuracy_tr:.4f}\\\")\\nprint(f\\\"Precision : {precision:.4f} | {precision_tr:.4f}\\\")\";\n",
       "                var nbb_formatted_code = \"print(\\\"===========================\\\")\\nprint(\\\"== Test Set vs Train Set ==\\\")\\nprint(f\\\"AUC Score : {auc_score:.4f} | {auc_score_tr:.4f}\\\")\\nprint(f\\\"Recall    : {recall:.4f} | {recall_tr:.4f}\\\")\\nprint(f\\\"F1 Score  : {f_score:.4f} | {f_score_tr:.4f}\\\")\\nprint(f\\\"Accuracy  : {accuracy:.4f} | {accuracy_tr:.4f}\\\")\\nprint(f\\\"Precision : {precision:.4f} | {precision_tr:.4f}\\\")\";\n",
       "                var nbb_cells = Jupyter.notebook.get_cells();\n",
       "                for (var i = 0; i < nbb_cells.length; ++i) {\n",
       "                    if (nbb_cells[i].input_prompt_number == nbb_cell_id) {\n",
       "                        if (nbb_cells[i].get_text() == nbb_unformatted_code) {\n",
       "                             nbb_cells[i].set_text(nbb_formatted_code);\n",
       "                        }\n",
       "                        break;\n",
       "                    }\n",
       "                }\n",
       "            }, 500);\n",
       "            "
      ],
      "text/plain": [
       "<IPython.core.display.Javascript object>"
      ]
     },
     "metadata": {},
     "output_type": "display_data"
    }
   ],
   "source": [
    "print(\"===========================\")\n",
    "print(\"== Test Set vs Train Set ==\")\n",
    "print(f\"AUC Score : {auc_score:.4f} | {auc_score_tr:.4f}\")\n",
    "print(f\"Recall    : {recall:.4f} | {recall_tr:.4f}\")\n",
    "print(f\"F1 Score  : {f_score:.4f} | {f_score_tr:.4f}\")\n",
    "print(f\"Accuracy  : {accuracy:.4f} | {accuracy_tr:.4f}\")\n",
    "print(f\"Precision : {precision:.4f} | {precision_tr:.4f}\")"
   ]
  },
  {
   "cell_type": "code",
   "execution_count": null,
   "id": "adec6975",
   "metadata": {},
   "outputs": [],
   "source": []
  },
  {
   "cell_type": "code",
   "execution_count": 15,
   "id": "1ef1412c",
   "metadata": {},
   "outputs": [
    {
     "data": {
      "text/html": [
       "<div>\n",
       "<style scoped>\n",
       "    .dataframe tbody tr th:only-of-type {\n",
       "        vertical-align: middle;\n",
       "    }\n",
       "\n",
       "    .dataframe tbody tr th {\n",
       "        vertical-align: top;\n",
       "    }\n",
       "\n",
       "    .dataframe thead th {\n",
       "        text-align: right;\n",
       "    }\n",
       "</style>\n",
       "<table border=\"1\" class=\"dataframe\">\n",
       "  <thead>\n",
       "    <tr style=\"text-align: right;\">\n",
       "      <th></th>\n",
       "      <th>Forest on Test</th>\n",
       "      <th>Forest on Train</th>\n",
       "      <th>Logit on Test</th>\n",
       "      <th>Logit on Train</th>\n",
       "    </tr>\n",
       "  </thead>\n",
       "  <tbody>\n",
       "    <tr>\n",
       "      <th>AUC</th>\n",
       "      <td>0.7438</td>\n",
       "      <td>0.9331</td>\n",
       "      <td>0.6948</td>\n",
       "      <td>0.6958</td>\n",
       "    </tr>\n",
       "    <tr>\n",
       "      <th>Recall</th>\n",
       "      <td>0.5736</td>\n",
       "      <td>0.7796</td>\n",
       "      <td>0.4016</td>\n",
       "      <td>0.4040</td>\n",
       "    </tr>\n",
       "    <tr>\n",
       "      <th>F1</th>\n",
       "      <td>0.6083</td>\n",
       "      <td>0.8191</td>\n",
       "      <td>0.4959</td>\n",
       "      <td>0.4965</td>\n",
       "    </tr>\n",
       "    <tr>\n",
       "      <th>Accuracy</th>\n",
       "      <td>0.6841</td>\n",
       "      <td>0.8539</td>\n",
       "      <td>0.6508</td>\n",
       "      <td>0.6524</td>\n",
       "    </tr>\n",
       "    <tr>\n",
       "      <th>Precision</th>\n",
       "      <td>0.6475</td>\n",
       "      <td>0.8628</td>\n",
       "      <td>0.6481</td>\n",
       "      <td>0.6438</td>\n",
       "    </tr>\n",
       "  </tbody>\n",
       "</table>\n",
       "</div>"
      ],
      "text/plain": [
       "           Forest on Test  Forest on Train  Logit on Test  Logit on Train\n",
       "AUC                0.7438           0.9331         0.6948          0.6958\n",
       "Recall             0.5736           0.7796         0.4016          0.4040\n",
       "F1                 0.6083           0.8191         0.4959          0.4965\n",
       "Accuracy           0.6841           0.8539         0.6508          0.6524\n",
       "Precision          0.6475           0.8628         0.6481          0.6438"
      ]
     },
     "execution_count": 15,
     "metadata": {},
     "output_type": "execute_result"
    },
    {
     "data": {
      "application/javascript": [
       "\n",
       "            setTimeout(function() {\n",
       "                var nbb_cell_id = 15;\n",
       "                var nbb_unformatted_code = \"cols = [\\\"Forest on Test\\\", \\\"Forest on Train\\\", \\\"Logit on Test\\\", \\\"Logit on Train\\\"]\\nind = [\\\"AUC\\\", \\\"Recall\\\", \\\"F1\\\", \\\"Accuracy\\\", \\\"Precision\\\"]\\ndata = [\\n[0.7438, 0.9331, 0.6948, 0.6958],\\n[0.5736, 0.7796, 0.4016, 0.4040],\\n[0.6083, 0.8191, 0.4959, 0.4965],\\n[0.6841, 0.8539, 0.6508, 0.6524],\\n[0.6475, 0.8628, 0.6481, 0.6438],\\n]\\n\\ncomparison = pd.DataFrame(data, columns=cols, index=ind)\\ncomparison\";\n",
       "                var nbb_formatted_code = \"cols = [\\\"Forest on Test\\\", \\\"Forest on Train\\\", \\\"Logit on Test\\\", \\\"Logit on Train\\\"]\\nind = [\\\"AUC\\\", \\\"Recall\\\", \\\"F1\\\", \\\"Accuracy\\\", \\\"Precision\\\"]\\ndata = [\\n    [0.7438, 0.9331, 0.6948, 0.6958],\\n    [0.5736, 0.7796, 0.4016, 0.4040],\\n    [0.6083, 0.8191, 0.4959, 0.4965],\\n    [0.6841, 0.8539, 0.6508, 0.6524],\\n    [0.6475, 0.8628, 0.6481, 0.6438],\\n]\\n\\ncomparison = pd.DataFrame(data, columns=cols, index=ind)\\ncomparison\";\n",
       "                var nbb_cells = Jupyter.notebook.get_cells();\n",
       "                for (var i = 0; i < nbb_cells.length; ++i) {\n",
       "                    if (nbb_cells[i].input_prompt_number == nbb_cell_id) {\n",
       "                        if (nbb_cells[i].get_text() == nbb_unformatted_code) {\n",
       "                             nbb_cells[i].set_text(nbb_formatted_code);\n",
       "                        }\n",
       "                        break;\n",
       "                    }\n",
       "                }\n",
       "            }, 500);\n",
       "            "
      ],
      "text/plain": [
       "<IPython.core.display.Javascript object>"
      ]
     },
     "metadata": {},
     "output_type": "display_data"
    }
   ],
   "source": [
    "cols = [\"Forest on Test\", \"Forest on Train\", \"Logit on Test\", \"Logit on Train\"]\n",
    "ind = [\"AUC\", \"Recall\", \"F1\", \"Accuracy\", \"Precision\"]\n",
    "data = [\n",
    "    [0.7438, 0.9331, 0.6948, 0.6958],\n",
    "    [0.5736, 0.7796, 0.4016, 0.4040],\n",
    "    [0.6083, 0.8191, 0.4959, 0.4965],\n",
    "    [0.6841, 0.8539, 0.6508, 0.6524],\n",
    "    [0.6475, 0.8628, 0.6481, 0.6438],\n",
    "]\n",
    "\n",
    "comparison = pd.DataFrame(data, columns=cols, index=ind)\n",
    "comparison"
   ]
  },
  {
   "cell_type": "code",
   "execution_count": 28,
   "id": "cce45783",
   "metadata": {},
   "outputs": [
    {
     "data": {
      "text/html": [
       "<div>\n",
       "<style scoped>\n",
       "    .dataframe tbody tr th:only-of-type {\n",
       "        vertical-align: middle;\n",
       "    }\n",
       "\n",
       "    .dataframe tbody tr th {\n",
       "        vertical-align: top;\n",
       "    }\n",
       "\n",
       "    .dataframe thead th {\n",
       "        text-align: right;\n",
       "    }\n",
       "</style>\n",
       "<table border=\"1\" class=\"dataframe\">\n",
       "  <thead>\n",
       "    <tr style=\"text-align: right;\">\n",
       "      <th>classifier_class</th>\n",
       "      <th>RandomForestClassifier</th>\n",
       "      <th>LogisticRegression</th>\n",
       "    </tr>\n",
       "  </thead>\n",
       "  <tbody>\n",
       "    <tr>\n",
       "      <th>AUC</th>\n",
       "      <td>0.769360</td>\n",
       "      <td>0.712588</td>\n",
       "    </tr>\n",
       "    <tr>\n",
       "      <th>Recall</th>\n",
       "      <td>0.606889</td>\n",
       "      <td>0.449399</td>\n",
       "    </tr>\n",
       "    <tr>\n",
       "      <th>Precision</th>\n",
       "      <td>0.674594</td>\n",
       "      <td>0.651015</td>\n",
       "    </tr>\n",
       "    <tr>\n",
       "      <th>F1_Score</th>\n",
       "      <td>0.638952</td>\n",
       "      <td>0.531737</td>\n",
       "    </tr>\n",
       "    <tr>\n",
       "      <th>Accuracy</th>\n",
       "      <td>0.706686</td>\n",
       "      <td>0.661504</td>\n",
       "    </tr>\n",
       "  </tbody>\n",
       "</table>\n",
       "</div>"
      ],
      "text/plain": [
       "classifier_class  RandomForestClassifier  LogisticRegression\n",
       "AUC                             0.769360            0.712588\n",
       "Recall                          0.606889            0.449399\n",
       "Precision                       0.674594            0.651015\n",
       "F1_Score                        0.638952            0.531737\n",
       "Accuracy                        0.706686            0.661504"
      ]
     },
     "execution_count": 28,
     "metadata": {},
     "output_type": "execute_result"
    },
    {
     "data": {
      "application/javascript": [
       "\n",
       "            setTimeout(function() {\n",
       "                var nbb_cell_id = 28;\n",
       "                var nbb_unformatted_code = \"dd = results_df.set_index(\\\"classifier_class\\\", drop=True)[\\n    [\\\"AUC\\\", \\\"Recall\\\", \\\"Precision\\\", \\\"F1_Score\\\", \\\"Accuracy\\\"]\\n].loc[[\\\"RandomForestClassifier\\\", \\\"LogisticRegression\\\"]].transpose()\\ndd\";\n",
       "                var nbb_formatted_code = \"dd = (\\n    results_df.set_index(\\\"classifier_class\\\", drop=True)[\\n        [\\\"AUC\\\", \\\"Recall\\\", \\\"Precision\\\", \\\"F1_Score\\\", \\\"Accuracy\\\"]\\n    ]\\n    .loc[[\\\"RandomForestClassifier\\\", \\\"LogisticRegression\\\"]]\\n    .transpose()\\n)\\ndd\";\n",
       "                var nbb_cells = Jupyter.notebook.get_cells();\n",
       "                for (var i = 0; i < nbb_cells.length; ++i) {\n",
       "                    if (nbb_cells[i].input_prompt_number == nbb_cell_id) {\n",
       "                        if (nbb_cells[i].get_text() == nbb_unformatted_code) {\n",
       "                             nbb_cells[i].set_text(nbb_formatted_code);\n",
       "                        }\n",
       "                        break;\n",
       "                    }\n",
       "                }\n",
       "            }, 500);\n",
       "            "
      ],
      "text/plain": [
       "<IPython.core.display.Javascript object>"
      ]
     },
     "metadata": {},
     "output_type": "display_data"
    }
   ],
   "source": [
    "dd = (\n",
    "    results_df.set_index(\"classifier_class\", drop=True)[\n",
    "        [\"AUC\", \"Recall\", \"Precision\", \"F1_Score\", \"Accuracy\"]\n",
    "    ]\n",
    "    .loc[[\"RandomForestClassifier\", \"LogisticRegression\"]]\n",
    "    .transpose()\n",
    ")\n",
    "dd"
   ]
  },
  {
   "cell_type": "code",
   "execution_count": null,
   "id": "a3f1bd71",
   "metadata": {},
   "outputs": [],
   "source": []
  }
 ],
 "metadata": {
  "kernelspec": {
   "display_name": "Python 3 (ipykernel)",
   "language": "python",
   "name": "python3"
  },
  "language_info": {
   "codemirror_mode": {
    "name": "ipython",
    "version": 3
   },
   "file_extension": ".py",
   "mimetype": "text/x-python",
   "name": "python",
   "nbconvert_exporter": "python",
   "pygments_lexer": "ipython3",
   "version": "3.10.9"
  }
 },
 "nbformat": 4,
 "nbformat_minor": 5
}
