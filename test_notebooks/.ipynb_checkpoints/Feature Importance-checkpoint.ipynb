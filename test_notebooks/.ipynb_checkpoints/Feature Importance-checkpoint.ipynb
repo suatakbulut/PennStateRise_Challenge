{
 "cells": [
  {
   "cell_type": "code",
   "execution_count": 1,
   "id": "15eb3efb",
   "metadata": {},
   "outputs": [
    {
     "data": {
      "application/javascript": [
       "\n",
       "            setTimeout(function() {\n",
       "                var nbb_cell_id = 1;\n",
       "                var nbb_unformatted_code = \"%load_ext nb_black\";\n",
       "                var nbb_formatted_code = \"%load_ext nb_black\";\n",
       "                var nbb_cells = Jupyter.notebook.get_cells();\n",
       "                for (var i = 0; i < nbb_cells.length; ++i) {\n",
       "                    if (nbb_cells[i].input_prompt_number == nbb_cell_id) {\n",
       "                        if (nbb_cells[i].get_text() == nbb_unformatted_code) {\n",
       "                             nbb_cells[i].set_text(nbb_formatted_code);\n",
       "                        }\n",
       "                        break;\n",
       "                    }\n",
       "                }\n",
       "            }, 500);\n",
       "            "
      ],
      "text/plain": [
       "<IPython.core.display.Javascript object>"
      ]
     },
     "metadata": {},
     "output_type": "display_data"
    }
   ],
   "source": [
    "%load_ext nb_black"
   ]
  },
  {
   "cell_type": "code",
   "execution_count": 2,
   "id": "47f15ba8",
   "metadata": {},
   "outputs": [
    {
     "name": "stderr",
     "output_type": "stream",
     "text": [
      "/Users/suatakbulut/miniconda3/lib/python3.10/site-packages/scipy/__init__.py:146: UserWarning: A NumPy version >=1.16.5 and <1.23.0 is required for this version of SciPy (detected version 1.23.4\n",
      "  warnings.warn(f\"A NumPy version >={np_minversion} and <{np_maxversion}\"\n"
     ]
    },
    {
     "data": {
      "application/javascript": [
       "\n",
       "            setTimeout(function() {\n",
       "                var nbb_cell_id = 2;\n",
       "                var nbb_unformatted_code = \"import warnings\\n\\nimport sys\\n\\nsys.path.insert(0, \\\"../code_workspace\\\")\\n\\nfrom data_prep import *\\nfrom post_analysis import *\\n\\nwarnings.filterwarnings(\\\"ignore\\\")\";\n",
       "                var nbb_formatted_code = \"import warnings\\n\\nimport sys\\n\\nsys.path.insert(0, \\\"../code_workspace\\\")\\n\\nfrom data_prep import *\\nfrom post_analysis import *\\n\\nwarnings.filterwarnings(\\\"ignore\\\")\";\n",
       "                var nbb_cells = Jupyter.notebook.get_cells();\n",
       "                for (var i = 0; i < nbb_cells.length; ++i) {\n",
       "                    if (nbb_cells[i].input_prompt_number == nbb_cell_id) {\n",
       "                        if (nbb_cells[i].get_text() == nbb_unformatted_code) {\n",
       "                             nbb_cells[i].set_text(nbb_formatted_code);\n",
       "                        }\n",
       "                        break;\n",
       "                    }\n",
       "                }\n",
       "            }, 500);\n",
       "            "
      ],
      "text/plain": [
       "<IPython.core.display.Javascript object>"
      ]
     },
     "metadata": {},
     "output_type": "display_data"
    }
   ],
   "source": [
    "import warnings\n",
    "\n",
    "import sys\n",
    "\n",
    "sys.path.insert(0, \"../code_workspace\")\n",
    "\n",
    "from data_prep import *\n",
    "from post_analysis import *\n",
    "\n",
    "warnings.filterwarnings(\"ignore\")"
   ]
  },
  {
   "cell_type": "code",
   "execution_count": 3,
   "id": "4ef41282",
   "metadata": {},
   "outputs": [
    {
     "name": "stdout",
     "output_type": "stream",
     "text": [
      "\n",
      "DATA PREP\n",
      "=========\n",
      "\n",
      "Loading processed data from ../data/processed_dataset.pkl..\n",
      "Excluding the following columns..\n",
      "['patient_id', 'Outcome 30 days Hospitalization', 'Height(in)', 'Weight(lbs)']\n",
      "Shapes: X_train: (108861, 136) - X_test: (72574, 136)\n"
     ]
    },
    {
     "data": {
      "application/javascript": [
       "\n",
       "            setTimeout(function() {\n",
       "                var nbb_cell_id = 3;\n",
       "                var nbb_unformatted_code = \"use_saved_one = True\\nunwanted_column_endings = []\\ntest_size = 0.4\\n\\nX_train, X_test, y_train, y_test = prepare_train_test_split(\\n    use_saved_one=use_saved_one,\\n    unwanted_column_endings=unwanted_column_endings,\\n    test_size=test_size,\\n)\";\n",
       "                var nbb_formatted_code = \"use_saved_one = True\\nunwanted_column_endings = []\\ntest_size = 0.4\\n\\nX_train, X_test, y_train, y_test = prepare_train_test_split(\\n    use_saved_one=use_saved_one,\\n    unwanted_column_endings=unwanted_column_endings,\\n    test_size=test_size,\\n)\";\n",
       "                var nbb_cells = Jupyter.notebook.get_cells();\n",
       "                for (var i = 0; i < nbb_cells.length; ++i) {\n",
       "                    if (nbb_cells[i].input_prompt_number == nbb_cell_id) {\n",
       "                        if (nbb_cells[i].get_text() == nbb_unformatted_code) {\n",
       "                             nbb_cells[i].set_text(nbb_formatted_code);\n",
       "                        }\n",
       "                        break;\n",
       "                    }\n",
       "                }\n",
       "            }, 500);\n",
       "            "
      ],
      "text/plain": [
       "<IPython.core.display.Javascript object>"
      ]
     },
     "metadata": {},
     "output_type": "display_data"
    }
   ],
   "source": [
    "use_saved_one = True\n",
    "unwanted_column_endings = []\n",
    "test_size = 0.4\n",
    "\n",
    "X_train, X_test, y_train, y_test = prepare_train_test_split(\n",
    "    use_saved_one=use_saved_one,\n",
    "    unwanted_column_endings=unwanted_column_endings,\n",
    "    test_size=test_size,\n",
    ")"
   ]
  },
  {
   "cell_type": "code",
   "execution_count": 4,
   "id": "b5745bea",
   "metadata": {},
   "outputs": [
    {
     "data": {
      "text/html": [
       "<div>\n",
       "<style scoped>\n",
       "    .dataframe tbody tr th:only-of-type {\n",
       "        vertical-align: middle;\n",
       "    }\n",
       "\n",
       "    .dataframe tbody tr th {\n",
       "        vertical-align: top;\n",
       "    }\n",
       "\n",
       "    .dataframe thead th {\n",
       "        text-align: right;\n",
       "    }\n",
       "</style>\n",
       "<table border=\"1\" class=\"dataframe\">\n",
       "  <thead>\n",
       "    <tr style=\"text-align: right;\">\n",
       "      <th></th>\n",
       "      <th>classifier_class</th>\n",
       "      <th>trained_model</th>\n",
       "      <th>train_time</th>\n",
       "      <th>F1_Score</th>\n",
       "      <th>AUC</th>\n",
       "      <th>Accuracy</th>\n",
       "      <th>Precision</th>\n",
       "      <th>Recall</th>\n",
       "    </tr>\n",
       "  </thead>\n",
       "  <tbody>\n",
       "    <tr>\n",
       "      <th>1</th>\n",
       "      <td>RandomForestClassifier</td>\n",
       "      <td>GridSearchCV(cv=5,\\n             estimator=Pip...</td>\n",
       "      <td>47.14</td>\n",
       "      <td>0.638952</td>\n",
       "      <td>0.769360</td>\n",
       "      <td>0.706686</td>\n",
       "      <td>0.674594</td>\n",
       "      <td>0.606889</td>\n",
       "    </tr>\n",
       "    <tr>\n",
       "      <th>5</th>\n",
       "      <td>DecisionTreeClassifier</td>\n",
       "      <td>GridSearchCV(cv=5,\\n             estimator=Pip...</td>\n",
       "      <td>1.13</td>\n",
       "      <td>0.603066</td>\n",
       "      <td>0.734679</td>\n",
       "      <td>0.681015</td>\n",
       "      <td>0.644530</td>\n",
       "      <td>0.566614</td>\n",
       "    </tr>\n",
       "    <tr>\n",
       "      <th>3</th>\n",
       "      <td>GaussianNB</td>\n",
       "      <td>GridSearchCV(cv=5,\\n             estimator=Pip...</td>\n",
       "      <td>0.06</td>\n",
       "      <td>0.556201</td>\n",
       "      <td>0.652868</td>\n",
       "      <td>0.617590</td>\n",
       "      <td>0.552130</td>\n",
       "      <td>0.560331</td>\n",
       "    </tr>\n",
       "    <tr>\n",
       "      <th>4</th>\n",
       "      <td>QuadraticDiscriminantAnalysis</td>\n",
       "      <td>GridSearchCV(cv=5,\\n             estimator=Pip...</td>\n",
       "      <td>0.15</td>\n",
       "      <td>0.556848</td>\n",
       "      <td>0.693367</td>\n",
       "      <td>0.645107</td>\n",
       "      <td>0.597497</td>\n",
       "      <td>0.521378</td>\n",
       "    </tr>\n",
       "    <tr>\n",
       "      <th>2</th>\n",
       "      <td>GradientBoostingClassifier</td>\n",
       "      <td>GridSearchCV(cv=5,\\n             estimator=Pip...</td>\n",
       "      <td>0.61</td>\n",
       "      <td>0.567899</td>\n",
       "      <td>0.750243</td>\n",
       "      <td>0.687698</td>\n",
       "      <td>0.695461</td>\n",
       "      <td>0.479879</td>\n",
       "    </tr>\n",
       "    <tr>\n",
       "      <th>0</th>\n",
       "      <td>LogisticRegression</td>\n",
       "      <td>GridSearchCV(cv=5,\\n             estimator=Pip...</td>\n",
       "      <td>4.02</td>\n",
       "      <td>0.531737</td>\n",
       "      <td>0.712588</td>\n",
       "      <td>0.661504</td>\n",
       "      <td>0.651015</td>\n",
       "      <td>0.449399</td>\n",
       "    </tr>\n",
       "  </tbody>\n",
       "</table>\n",
       "</div>"
      ],
      "text/plain": [
       "                classifier_class  \\\n",
       "1         RandomForestClassifier   \n",
       "5         DecisionTreeClassifier   \n",
       "3                     GaussianNB   \n",
       "4  QuadraticDiscriminantAnalysis   \n",
       "2     GradientBoostingClassifier   \n",
       "0             LogisticRegression   \n",
       "\n",
       "                                       trained_model  train_time  F1_Score  \\\n",
       "1  GridSearchCV(cv=5,\\n             estimator=Pip...       47.14  0.638952   \n",
       "5  GridSearchCV(cv=5,\\n             estimator=Pip...        1.13  0.603066   \n",
       "3  GridSearchCV(cv=5,\\n             estimator=Pip...        0.06  0.556201   \n",
       "4  GridSearchCV(cv=5,\\n             estimator=Pip...        0.15  0.556848   \n",
       "2  GridSearchCV(cv=5,\\n             estimator=Pip...        0.61  0.567899   \n",
       "0  GridSearchCV(cv=5,\\n             estimator=Pip...        4.02  0.531737   \n",
       "\n",
       "        AUC  Accuracy  Precision    Recall  \n",
       "1  0.769360  0.706686   0.674594  0.606889  \n",
       "5  0.734679  0.681015   0.644530  0.566614  \n",
       "3  0.652868  0.617590   0.552130  0.560331  \n",
       "4  0.693367  0.645107   0.597497  0.521378  \n",
       "2  0.750243  0.687698   0.695461  0.479879  \n",
       "0  0.712588  0.661504   0.651015  0.449399  "
      ]
     },
     "execution_count": 4,
     "metadata": {},
     "output_type": "execute_result"
    },
    {
     "data": {
      "application/javascript": [
       "\n",
       "            setTimeout(function() {\n",
       "                var nbb_cell_id = 4;\n",
       "                var nbb_unformatted_code = \"models_path = \\\"../trained_models/results_df_0.77_AUC_0.61_Rec.pkl\\\"\\nresults_df = pd.read_pickle(models_path)\\nresults_df\";\n",
       "                var nbb_formatted_code = \"models_path = \\\"../trained_models/results_df_0.77_AUC_0.61_Rec.pkl\\\"\\nresults_df = pd.read_pickle(models_path)\\nresults_df\";\n",
       "                var nbb_cells = Jupyter.notebook.get_cells();\n",
       "                for (var i = 0; i < nbb_cells.length; ++i) {\n",
       "                    if (nbb_cells[i].input_prompt_number == nbb_cell_id) {\n",
       "                        if (nbb_cells[i].get_text() == nbb_unformatted_code) {\n",
       "                             nbb_cells[i].set_text(nbb_formatted_code);\n",
       "                        }\n",
       "                        break;\n",
       "                    }\n",
       "                }\n",
       "            }, 500);\n",
       "            "
      ],
      "text/plain": [
       "<IPython.core.display.Javascript object>"
      ]
     },
     "metadata": {},
     "output_type": "display_data"
    }
   ],
   "source": [
    "models_path = \"../trained_models/results_df_0.77_AUC_0.61_Rec.pkl\"\n",
    "results_df = pd.read_pickle(models_path)\n",
    "results_df"
   ]
  },
  {
   "cell_type": "code",
   "execution_count": 5,
   "id": "1b71001d",
   "metadata": {},
   "outputs": [
    {
     "name": "stdout",
     "output_type": "stream",
     "text": [
      "Calculating permutation importance. This could take a while..\n"
     ]
    },
    {
     "name": "stderr",
     "output_type": "stream",
     "text": [
      "/Users/suatakbulut/miniconda3/lib/python3.10/site-packages/scipy/__init__.py:146: UserWarning: A NumPy version >=1.16.5 and <1.23.0 is required for this version of SciPy (detected version 1.23.4\n",
      "  warnings.warn(f\"A NumPy version >={np_minversion} and <{np_maxversion}\"\n",
      "/Users/suatakbulut/miniconda3/lib/python3.10/site-packages/scipy/__init__.py:146: UserWarning: A NumPy version >=1.16.5 and <1.23.0 is required for this version of SciPy (detected version 1.23.4\n",
      "  warnings.warn(f\"A NumPy version >={np_minversion} and <{np_maxversion}\"\n",
      "/Users/suatakbulut/miniconda3/lib/python3.10/site-packages/scipy/__init__.py:146: UserWarning: A NumPy version >=1.16.5 and <1.23.0 is required for this version of SciPy (detected version 1.23.4\n",
      "  warnings.warn(f\"A NumPy version >={np_minversion} and <{np_maxversion}\"\n",
      "/Users/suatakbulut/miniconda3/lib/python3.10/site-packages/scipy/__init__.py:146: UserWarning: A NumPy version >=1.16.5 and <1.23.0 is required for this version of SciPy (detected version 1.23.4\n",
      "  warnings.warn(f\"A NumPy version >={np_minversion} and <{np_maxversion}\"\n",
      "/Users/suatakbulut/miniconda3/lib/python3.10/site-packages/scipy/__init__.py:146: UserWarning: A NumPy version >=1.16.5 and <1.23.0 is required for this version of SciPy (detected version 1.23.4\n",
      "  warnings.warn(f\"A NumPy version >={np_minversion} and <{np_maxversion}\"\n",
      "/Users/suatakbulut/miniconda3/lib/python3.10/site-packages/scipy/__init__.py:146: UserWarning: A NumPy version >=1.16.5 and <1.23.0 is required for this version of SciPy (detected version 1.23.4\n",
      "  warnings.warn(f\"A NumPy version >={np_minversion} and <{np_maxversion}\"\n",
      "/Users/suatakbulut/miniconda3/lib/python3.10/site-packages/scipy/__init__.py:146: UserWarning: A NumPy version >=1.16.5 and <1.23.0 is required for this version of SciPy (detected version 1.23.4\n",
      "  warnings.warn(f\"A NumPy version >={np_minversion} and <{np_maxversion}\"\n",
      "/Users/suatakbulut/miniconda3/lib/python3.10/site-packages/scipy/__init__.py:146: UserWarning: A NumPy version >=1.16.5 and <1.23.0 is required for this version of SciPy (detected version 1.23.4\n",
      "  warnings.warn(f\"A NumPy version >={np_minversion} and <{np_maxversion}\"\n"
     ]
    },
    {
     "name": "stdout",
     "output_type": "stream",
     "text": [
      "Elapsed time to compute permutation importances: 2.43 mins\n",
      "Elapsed time to compute feature importances: 0.00 mins\n",
      "Figure is saved at ../data/permutation_feature_importance.png\n",
      "Calculating permutation importance. This could take a while..\n",
      "Elapsed time to compute permutation importances: 0.66 mins\n",
      "Elapsed time to compute feature importances: 0.00 mins\n",
      "Figure is saved at ../data/permutation_feature_importance.png\n"
     ]
    },
    {
     "data": {
      "image/png": "[encoded data removed]",
      "text/plain": [
       "<Figure size 1152x432 with 2 Axes>"
      ]
     },
     "metadata": {
      "needs_background": "light"
     },
     "output_type": "display_data"
    },
    {
     "data": {
      "image/png": "[encoded data removed]",
      "text/plain": [
       "<Figure size 1152x432 with 2 Axes>"
      ]
     },
     "metadata": {
      "needs_background": "light"
     },
     "output_type": "display_data"
    },
    {
     "data": {
      "application/javascript": [
       "\n",
       "            setTimeout(function() {\n",
       "                var nbb_cell_id = 5;\n",
       "                var nbb_unformatted_code = \"figs = []\\n\\nfor classifier_class in (\\\"RandomForestClassifier\\\", \\\"GradientBoostingClassifier\\\"):\\n    model = (\\n        results_df[results_df.classifier_class == classifier_class]\\n        .trained_model.values[0]\\n        .best_estimator_\\n    )\\n    fig = plot_perm_and_feature_importances(model, X_test, y_test)\\n    figs.append(fig)\";\n",
       "                var nbb_formatted_code = \"figs = []\\n\\nfor classifier_class in (\\\"RandomForestClassifier\\\", \\\"GradientBoostingClassifier\\\"):\\n    model = (\\n        results_df[results_df.classifier_class == classifier_class]\\n        .trained_model.values[0]\\n        .best_estimator_\\n    )\\n    fig = plot_perm_and_feature_importances(model, X_test, y_test)\\n    figs.append(fig)\";\n",
       "                var nbb_cells = Jupyter.notebook.get_cells();\n",
       "                for (var i = 0; i < nbb_cells.length; ++i) {\n",
       "                    if (nbb_cells[i].input_prompt_number == nbb_cell_id) {\n",
       "                        if (nbb_cells[i].get_text() == nbb_unformatted_code) {\n",
       "                             nbb_cells[i].set_text(nbb_formatted_code);\n",
       "                        }\n",
       "                        break;\n",
       "                    }\n",
       "                }\n",
       "            }, 500);\n",
       "            "
      ],
      "text/plain": [
       "<IPython.core.display.Javascript object>"
      ]
     },
     "metadata": {},
     "output_type": "display_data"
    }
   ],
   "source": [
    "figs = []\n",
    "\n",
    "for classifier_class in (\"RandomForestClassifier\", \"GradientBoostingClassifier\"):\n",
    "    model = (\n",
    "        results_df[results_df.classifier_class == classifier_class]\n",
    "        .trained_model.values[0]\n",
    "        .best_estimator_\n",
    "    )\n",
    "    fig = plot_perm_and_feature_importances(model, X_test, y_test, classifier_class)\n",
    "    figs.append(fig)\n"
   ]
  }
 ],
 "metadata": {
  "kernelspec": {
   "display_name": "Python 3 (ipykernel)",
   "language": "python",
   "name": "python3"
  },
  "language_info": {
   "codemirror_mode": {
    "name": "ipython",
    "version": 3
   },
   "file_extension": ".py",
   "mimetype": "text/x-python",
   "name": "python",
   "nbconvert_exporter": "python",
   "pygments_lexer": "ipython3",
   "version": "3.10.9"
  }
 },
 "nbformat": 4,
 "nbformat_minor": 5
}
