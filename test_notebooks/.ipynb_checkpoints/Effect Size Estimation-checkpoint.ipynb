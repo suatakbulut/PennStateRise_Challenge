{
 "cells": [
  {
   "cell_type": "code",
   "execution_count": 1,
   "id": "4f5bee81",
   "metadata": {},
   "outputs": [
    {
     "data": {
      "application/javascript": [
       "\n",
       "            setTimeout(function() {\n",
       "                var nbb_cell_id = 1;\n",
       "                var nbb_unformatted_code = \"%load_ext nb_black\";\n",
       "                var nbb_formatted_code = \"%load_ext nb_black\";\n",
       "                var nbb_cells = Jupyter.notebook.get_cells();\n",
       "                for (var i = 0; i < nbb_cells.length; ++i) {\n",
       "                    if (nbb_cells[i].input_prompt_number == nbb_cell_id) {\n",
       "                        if (nbb_cells[i].get_text() == nbb_unformatted_code) {\n",
       "                             nbb_cells[i].set_text(nbb_formatted_code);\n",
       "                        }\n",
       "                        break;\n",
       "                    }\n",
       "                }\n",
       "            }, 500);\n",
       "            "
      ],
      "text/plain": [
       "<IPython.core.display.Javascript object>"
      ]
     },
     "metadata": {},
     "output_type": "display_data"
    }
   ],
   "source": [
    "%load_ext nb_black"
   ]
  },
  {
   "cell_type": "code",
   "execution_count": 2,
   "id": "ad3c25da",
   "metadata": {},
   "outputs": [
    {
     "name": "stderr",
     "output_type": "stream",
     "text": [
      "/Users/suatakbulut/miniconda3/lib/python3.10/site-packages/scipy/__init__.py:146: UserWarning: A NumPy version >=1.16.5 and <1.23.0 is required for this version of SciPy (detected version 1.23.4\n",
      "  warnings.warn(f\"A NumPy version >={np_minversion} and <{np_maxversion}\"\n"
     ]
    },
    {
     "data": {
      "application/javascript": [
       "\n",
       "            setTimeout(function() {\n",
       "                var nbb_cell_id = 2;\n",
       "                var nbb_unformatted_code = \"import warnings\\n\\nimport sys\\n\\nsys.path.insert(0, \\\"../code_workspace\\\")\\n\\nfrom data_prep import *\\nfrom post_analysis import *\\n\\nwarnings.filterwarnings(\\\"ignore\\\")\";\n",
       "                var nbb_formatted_code = \"import warnings\\n\\nimport sys\\n\\nsys.path.insert(0, \\\"../code_workspace\\\")\\n\\nfrom data_prep import *\\nfrom post_analysis import *\\n\\nwarnings.filterwarnings(\\\"ignore\\\")\";\n",
       "                var nbb_cells = Jupyter.notebook.get_cells();\n",
       "                for (var i = 0; i < nbb_cells.length; ++i) {\n",
       "                    if (nbb_cells[i].input_prompt_number == nbb_cell_id) {\n",
       "                        if (nbb_cells[i].get_text() == nbb_unformatted_code) {\n",
       "                             nbb_cells[i].set_text(nbb_formatted_code);\n",
       "                        }\n",
       "                        break;\n",
       "                    }\n",
       "                }\n",
       "            }, 500);\n",
       "            "
      ],
      "text/plain": [
       "<IPython.core.display.Javascript object>"
      ]
     },
     "metadata": {},
     "output_type": "display_data"
    }
   ],
   "source": [
    "import warnings\n",
    "\n",
    "import sys\n",
    "\n",
    "sys.path.insert(0, \"../code_workspace\")\n",
    "\n",
    "from data_prep import *\n",
    "from post_analysis import *\n",
    "\n",
    "warnings.filterwarnings(\"ignore\")"
   ]
  },
  {
   "cell_type": "code",
   "execution_count": 3,
   "id": "a29ab7af",
   "metadata": {},
   "outputs": [
    {
     "data": {
      "application/javascript": [
       "\n",
       "            setTimeout(function() {\n",
       "                var nbb_cell_id = 3;\n",
       "                var nbb_unformatted_code = \"use_saved_one = True\\nunwanted_column_endings = []\\ntest_size = 0.4\\nmodels_path = \\\"../trained_models/results_df_0.77_AUC_0.61_Rec.pkl\\\"\";\n",
       "                var nbb_formatted_code = \"use_saved_one = True\\nunwanted_column_endings = []\\ntest_size = 0.4\\nmodels_path = \\\"../trained_models/results_df_0.77_AUC_0.61_Rec.pkl\\\"\";\n",
       "                var nbb_cells = Jupyter.notebook.get_cells();\n",
       "                for (var i = 0; i < nbb_cells.length; ++i) {\n",
       "                    if (nbb_cells[i].input_prompt_number == nbb_cell_id) {\n",
       "                        if (nbb_cells[i].get_text() == nbb_unformatted_code) {\n",
       "                             nbb_cells[i].set_text(nbb_formatted_code);\n",
       "                        }\n",
       "                        break;\n",
       "                    }\n",
       "                }\n",
       "            }, 500);\n",
       "            "
      ],
      "text/plain": [
       "<IPython.core.display.Javascript object>"
      ]
     },
     "metadata": {},
     "output_type": "display_data"
    }
   ],
   "source": [
    "use_saved_one = True\n",
    "unwanted_column_endings = []\n",
    "test_size = 0.4\n",
    "models_path = \"../trained_models/results_df_0.77_AUC_0.61_Rec.pkl\""
   ]
  },
  {
   "cell_type": "code",
   "execution_count": 4,
   "id": "8eab8fd7",
   "metadata": {},
   "outputs": [
    {
     "name": "stdout",
     "output_type": "stream",
     "text": [
      "\n",
      "DATA PREP\n",
      "=========\n",
      "\n",
      "Loading processed data from ../data/processed_dataset.pkl..\n",
      "Excluding the following columns..\n",
      "['patient_id', 'Outcome 30 days Hospitalization', 'Height(in)', 'Weight(lbs)']\n",
      "Shapes: X_train: (108861, 136) - X_test: (72574, 136)\n"
     ]
    },
    {
     "data": {
      "application/javascript": [
       "\n",
       "            setTimeout(function() {\n",
       "                var nbb_cell_id = 4;\n",
       "                var nbb_unformatted_code = \"X_train, X_test, y_train, y_test = prepare_train_test_split(\\n    use_saved_one=use_saved_one,\\n    unwanted_column_endings=unwanted_column_endings,\\n    test_size=test_size,\\n)\";\n",
       "                var nbb_formatted_code = \"X_train, X_test, y_train, y_test = prepare_train_test_split(\\n    use_saved_one=use_saved_one,\\n    unwanted_column_endings=unwanted_column_endings,\\n    test_size=test_size,\\n)\";\n",
       "                var nbb_cells = Jupyter.notebook.get_cells();\n",
       "                for (var i = 0; i < nbb_cells.length; ++i) {\n",
       "                    if (nbb_cells[i].input_prompt_number == nbb_cell_id) {\n",
       "                        if (nbb_cells[i].get_text() == nbb_unformatted_code) {\n",
       "                             nbb_cells[i].set_text(nbb_formatted_code);\n",
       "                        }\n",
       "                        break;\n",
       "                    }\n",
       "                }\n",
       "            }, 500);\n",
       "            "
      ],
      "text/plain": [
       "<IPython.core.display.Javascript object>"
      ]
     },
     "metadata": {},
     "output_type": "display_data"
    }
   ],
   "source": [
    "X_train, X_test, y_train, y_test = prepare_train_test_split(\n",
    "    use_saved_one=use_saved_one,\n",
    "    unwanted_column_endings=unwanted_column_endings,\n",
    "    test_size=test_size,\n",
    ")"
   ]
  },
  {
   "cell_type": "code",
   "execution_count": 5,
   "id": "5278afbd",
   "metadata": {},
   "outputs": [
    {
     "data": {
      "text/html": [
       "<div>\n",
       "<style scoped>\n",
       "    .dataframe tbody tr th:only-of-type {\n",
       "        vertical-align: middle;\n",
       "    }\n",
       "\n",
       "    .dataframe tbody tr th {\n",
       "        vertical-align: top;\n",
       "    }\n",
       "\n",
       "    .dataframe thead th {\n",
       "        text-align: right;\n",
       "    }\n",
       "</style>\n",
       "<table border=\"1\" class=\"dataframe\">\n",
       "  <thead>\n",
       "    <tr style=\"text-align: right;\">\n",
       "      <th></th>\n",
       "      <th>AUC</th>\n",
       "      <th>Recall</th>\n",
       "      <th>Precision</th>\n",
       "      <th>F1_Score</th>\n",
       "      <th>Accuracy</th>\n",
       "    </tr>\n",
       "    <tr>\n",
       "      <th>classifier_class</th>\n",
       "      <th></th>\n",
       "      <th></th>\n",
       "      <th></th>\n",
       "      <th></th>\n",
       "      <th></th>\n",
       "    </tr>\n",
       "  </thead>\n",
       "  <tbody>\n",
       "    <tr>\n",
       "      <th>RandomForestClassifier</th>\n",
       "      <td>0.769360</td>\n",
       "      <td>0.606889</td>\n",
       "      <td>0.674594</td>\n",
       "      <td>0.638952</td>\n",
       "      <td>0.706686</td>\n",
       "    </tr>\n",
       "    <tr>\n",
       "      <th>DecisionTreeClassifier</th>\n",
       "      <td>0.734679</td>\n",
       "      <td>0.566614</td>\n",
       "      <td>0.644530</td>\n",
       "      <td>0.603066</td>\n",
       "      <td>0.681015</td>\n",
       "    </tr>\n",
       "    <tr>\n",
       "      <th>GaussianNB</th>\n",
       "      <td>0.652868</td>\n",
       "      <td>0.560331</td>\n",
       "      <td>0.552130</td>\n",
       "      <td>0.556201</td>\n",
       "      <td>0.617590</td>\n",
       "    </tr>\n",
       "    <tr>\n",
       "      <th>QuadraticDiscriminantAnalysis</th>\n",
       "      <td>0.693367</td>\n",
       "      <td>0.521378</td>\n",
       "      <td>0.597497</td>\n",
       "      <td>0.556848</td>\n",
       "      <td>0.645107</td>\n",
       "    </tr>\n",
       "    <tr>\n",
       "      <th>GradientBoostingClassifier</th>\n",
       "      <td>0.750243</td>\n",
       "      <td>0.479879</td>\n",
       "      <td>0.695461</td>\n",
       "      <td>0.567899</td>\n",
       "      <td>0.687698</td>\n",
       "    </tr>\n",
       "    <tr>\n",
       "      <th>LogisticRegression</th>\n",
       "      <td>0.712588</td>\n",
       "      <td>0.449399</td>\n",
       "      <td>0.651015</td>\n",
       "      <td>0.531737</td>\n",
       "      <td>0.661504</td>\n",
       "    </tr>\n",
       "  </tbody>\n",
       "</table>\n",
       "</div>"
      ],
      "text/plain": [
       "                                    AUC    Recall  Precision  F1_Score  \\\n",
       "classifier_class                                                         \n",
       "RandomForestClassifier         0.769360  0.606889   0.674594  0.638952   \n",
       "DecisionTreeClassifier         0.734679  0.566614   0.644530  0.603066   \n",
       "GaussianNB                     0.652868  0.560331   0.552130  0.556201   \n",
       "QuadraticDiscriminantAnalysis  0.693367  0.521378   0.597497  0.556848   \n",
       "GradientBoostingClassifier     0.750243  0.479879   0.695461  0.567899   \n",
       "LogisticRegression             0.712588  0.449399   0.651015  0.531737   \n",
       "\n",
       "                               Accuracy  \n",
       "classifier_class                         \n",
       "RandomForestClassifier         0.706686  \n",
       "DecisionTreeClassifier         0.681015  \n",
       "GaussianNB                     0.617590  \n",
       "QuadraticDiscriminantAnalysis  0.645107  \n",
       "GradientBoostingClassifier     0.687698  \n",
       "LogisticRegression             0.661504  "
      ]
     },
     "execution_count": 5,
     "metadata": {},
     "output_type": "execute_result"
    },
    {
     "data": {
      "application/javascript": [
       "\n",
       "            setTimeout(function() {\n",
       "                var nbb_cell_id = 5;\n",
       "                var nbb_unformatted_code = \"if not os.path.exists(models_path):\\n    raise ValueError(f\\\"Trained model path {model_path} does not exist.\\\")\\n\\nresults_df = pd.read_pickle(models_path)\\nresults_df.set_index(\\\"classifier_class\\\", drop=True)[\\n    [\\\"AUC\\\", \\\"Recall\\\", \\\"Precision\\\", \\\"F1_Score\\\", \\\"Accuracy\\\"]\\n]\";\n",
       "                var nbb_formatted_code = \"if not os.path.exists(models_path):\\n    raise ValueError(f\\\"Trained model path {model_path} does not exist.\\\")\\n\\nresults_df = pd.read_pickle(models_path)\\nresults_df.set_index(\\\"classifier_class\\\", drop=True)[\\n    [\\\"AUC\\\", \\\"Recall\\\", \\\"Precision\\\", \\\"F1_Score\\\", \\\"Accuracy\\\"]\\n]\";\n",
       "                var nbb_cells = Jupyter.notebook.get_cells();\n",
       "                for (var i = 0; i < nbb_cells.length; ++i) {\n",
       "                    if (nbb_cells[i].input_prompt_number == nbb_cell_id) {\n",
       "                        if (nbb_cells[i].get_text() == nbb_unformatted_code) {\n",
       "                             nbb_cells[i].set_text(nbb_formatted_code);\n",
       "                        }\n",
       "                        break;\n",
       "                    }\n",
       "                }\n",
       "            }, 500);\n",
       "            "
      ],
      "text/plain": [
       "<IPython.core.display.Javascript object>"
      ]
     },
     "metadata": {},
     "output_type": "display_data"
    }
   ],
   "source": [
    "if not os.path.exists(models_path):\n",
    "    raise ValueError(f\"Trained model path {model_path} does not exist.\")\n",
    "\n",
    "results_df = pd.read_pickle(models_path)\n",
    "results_df.set_index(\"classifier_class\", drop=True)[\n",
    "    [\"AUC\", \"Recall\", \"Precision\", \"F1_Score\", \"Accuracy\"]\n",
    "]"
   ]
  },
  {
   "cell_type": "code",
   "execution_count": 6,
   "id": "74f9d16f",
   "metadata": {},
   "outputs": [
    {
     "data": {
      "application/javascript": [
       "\n",
       "            setTimeout(function() {\n",
       "                var nbb_cell_id = 6;\n",
       "                var nbb_unformatted_code = \"best_model = (\\n    results_df[results_df.classifier_class == \\\"RandomForestClassifier\\\"]\\n    .trained_model.values[0]\\n    .best_estimator_\\n)\\n\\nbest_predictor = best_model.named_steps[\\\"predictor\\\"]\";\n",
       "                var nbb_formatted_code = \"best_model = (\\n    results_df[results_df.classifier_class == \\\"RandomForestClassifier\\\"]\\n    .trained_model.values[0]\\n    .best_estimator_\\n)\\n\\nbest_predictor = best_model.named_steps[\\\"predictor\\\"]\";\n",
       "                var nbb_cells = Jupyter.notebook.get_cells();\n",
       "                for (var i = 0; i < nbb_cells.length; ++i) {\n",
       "                    if (nbb_cells[i].input_prompt_number == nbb_cell_id) {\n",
       "                        if (nbb_cells[i].get_text() == nbb_unformatted_code) {\n",
       "                             nbb_cells[i].set_text(nbb_formatted_code);\n",
       "                        }\n",
       "                        break;\n",
       "                    }\n",
       "                }\n",
       "            }, 500);\n",
       "            "
      ],
      "text/plain": [
       "<IPython.core.display.Javascript object>"
      ]
     },
     "metadata": {},
     "output_type": "display_data"
    }
   ],
   "source": [
    "best_model = (\n",
    "    results_df[results_df.classifier_class == \"RandomForestClassifier\"]\n",
    "    .trained_model.values[0]\n",
    "    .best_estimator_\n",
    ")\n",
    "\n",
    "best_predictor = best_model.named_steps[\"predictor\"]"
   ]
  },
  {
   "cell_type": "code",
   "execution_count": 7,
   "id": "ee412d16",
   "metadata": {},
   "outputs": [
    {
     "name": "stdout",
     "output_type": "stream",
     "text": [
      "Elapsed time to compute feature importances: 0.00 mins\n"
     ]
    },
    {
     "data": {
      "application/javascript": [
       "\n",
       "            setTimeout(function() {\n",
       "                var nbb_cell_id = 7;\n",
       "                var nbb_unformatted_code = \"_, _, feature_importance_labels = feature_importance_top10(best_model, X_test, y_test)\\n# _, permutation_importance_labels = permutation_importance_top10(best_model, X_test, y_test)\\n# imp_features = list(set(feature_importance_labels).union(set(permutation_importance_labels)))\\nimp_features = feature_importance_labels\";\n",
       "                var nbb_formatted_code = \"_, _, feature_importance_labels = feature_importance_top10(best_model, X_test, y_test)\\n# _, permutation_importance_labels = permutation_importance_top10(best_model, X_test, y_test)\\n# imp_features = list(set(feature_importance_labels).union(set(permutation_importance_labels)))\\nimp_features = feature_importance_labels\";\n",
       "                var nbb_cells = Jupyter.notebook.get_cells();\n",
       "                for (var i = 0; i < nbb_cells.length; ++i) {\n",
       "                    if (nbb_cells[i].input_prompt_number == nbb_cell_id) {\n",
       "                        if (nbb_cells[i].get_text() == nbb_unformatted_code) {\n",
       "                             nbb_cells[i].set_text(nbb_formatted_code);\n",
       "                        }\n",
       "                        break;\n",
       "                    }\n",
       "                }\n",
       "            }, 500);\n",
       "            "
      ],
      "text/plain": [
       "<IPython.core.display.Javascript object>"
      ]
     },
     "metadata": {},
     "output_type": "display_data"
    }
   ],
   "source": [
    "_, _, feature_importance_labels = feature_importance_top10(best_model, X_test, y_test)\n",
    "# _, permutation_importance_labels = permutation_importance_top10(best_model, X_test, y_test)\n",
    "# imp_features = list(set(feature_importance_labels).union(set(permutation_importance_labels)))\n",
    "imp_features = feature_importance_labels"
   ]
  },
  {
   "cell_type": "code",
   "execution_count": 8,
   "id": "9fcb7ae9",
   "metadata": {},
   "outputs": [
    {
     "name": "stdout",
     "output_type": "stream",
     "text": [
      "Optimization terminated successfully.\n",
      "         Current function value: 0.634368\n",
      "         Iterations 5\n"
     ]
    },
    {
     "data": {
      "application/javascript": [
       "\n",
       "            setTimeout(function() {\n",
       "                var nbb_cell_id = 8;\n",
       "                var nbb_unformatted_code = \"preprocessor = get_preprocessor()\\n\\nX_train = preprocessor.fit_transform(X_train[imp_features])\\nX_test = preprocessor.transform(X_test[imp_features])\\n\\nlogit = sm.Logit(y_train, sm.add_constant(X_train)).fit()\";\n",
       "                var nbb_formatted_code = \"preprocessor = get_preprocessor()\\n\\nX_train = preprocessor.fit_transform(X_train[imp_features])\\nX_test = preprocessor.transform(X_test[imp_features])\\n\\nlogit = sm.Logit(y_train, sm.add_constant(X_train)).fit()\";\n",
       "                var nbb_cells = Jupyter.notebook.get_cells();\n",
       "                for (var i = 0; i < nbb_cells.length; ++i) {\n",
       "                    if (nbb_cells[i].input_prompt_number == nbb_cell_id) {\n",
       "                        if (nbb_cells[i].get_text() == nbb_unformatted_code) {\n",
       "                             nbb_cells[i].set_text(nbb_formatted_code);\n",
       "                        }\n",
       "                        break;\n",
       "                    }\n",
       "                }\n",
       "            }, 500);\n",
       "            "
      ],
      "text/plain": [
       "<IPython.core.display.Javascript object>"
      ]
     },
     "metadata": {},
     "output_type": "display_data"
    }
   ],
   "source": [
    "preprocessor = get_preprocessor()\n",
    "\n",
    "X_train = preprocessor.fit_transform(X_train[imp_features])\n",
    "X_test = preprocessor.transform(X_test[imp_features])\n",
    "\n",
    "logit = sm.Logit(y_train, sm.add_constant(X_train)).fit()"
   ]
  },
  {
   "cell_type": "code",
   "execution_count": 9,
   "id": "410a6faf",
   "metadata": {},
   "outputs": [
    {
     "name": "stdout",
     "output_type": "stream",
     "text": [
      "                                  Logit Regression Results                                 \n",
      "===========================================================================================\n",
      "Dep. Variable:     Outcome 30 days Hospitalization   No. Observations:               108861\n",
      "Model:                                       Logit   Df Residuals:                   108850\n",
      "Method:                                        MLE   Df Model:                           10\n",
      "Date:                             Mon, 14 Aug 2023   Pseudo R-squ.:                 0.06928\n",
      "Time:                                     22:17:39   Log-Likelihood:                -69058.\n",
      "converged:                                    True   LL-Null:                       -74199.\n",
      "Covariance Type:                         nonrobust   LLR p-value:                     0.000\n",
      "==========================================================================================\n",
      "                             coef    std err          z      P>|z|      [0.025      0.975]\n",
      "------------------------------------------------------------------------------------------\n",
      "const                     -0.3415      0.007    -52.452      0.000      -0.354      -0.329\n",
      "age                        0.0242      0.006      3.734      0.000       0.012       0.037\n",
      "weight_avg                 0.0453      0.017      2.664      0.008       0.012       0.079\n",
      "bmi_avg                   -0.1225      0.017     -7.191      0.000      -0.156      -0.089\n",
      "dates_nunique             -0.0782      0.009     -8.909      0.000      -0.095      -0.061\n",
      "dates_range               -0.0478      0.007     -6.692      0.000      -0.062      -0.034\n",
      "Not Hispanic or Latino    -0.0403      0.007     -6.073      0.000      -0.053      -0.027\n",
      "t1diabetes_isPresent       0.4370      0.010     43.192      0.000       0.417       0.457\n",
      "num_isPresents             0.4085      0.009     45.969      0.000       0.391       0.426\n",
      "COPD_isPresent            -0.8440      0.011    -76.559      0.000      -0.866      -0.822\n",
      "bmi_std                    0.1208      0.008     15.406      0.000       0.105       0.136\n",
      "==========================================================================================\n"
     ]
    },
    {
     "data": {
      "application/javascript": [
       "\n",
       "            setTimeout(function() {\n",
       "                var nbb_cell_id = 9;\n",
       "                var nbb_unformatted_code = \"print_logit_results(logit, X_train, X_test, y_train, y_test, imp_features)\";\n",
       "                var nbb_formatted_code = \"print_logit_results(logit, X_train, X_test, y_train, y_test, imp_features)\";\n",
       "                var nbb_cells = Jupyter.notebook.get_cells();\n",
       "                for (var i = 0; i < nbb_cells.length; ++i) {\n",
       "                    if (nbb_cells[i].input_prompt_number == nbb_cell_id) {\n",
       "                        if (nbb_cells[i].get_text() == nbb_unformatted_code) {\n",
       "                             nbb_cells[i].set_text(nbb_formatted_code);\n",
       "                        }\n",
       "                        break;\n",
       "                    }\n",
       "                }\n",
       "            }, 500);\n",
       "            "
      ],
      "text/plain": [
       "<IPython.core.display.Javascript object>"
      ]
     },
     "metadata": {},
     "output_type": "display_data"
    }
   ],
   "source": [
    "print_logit_results(logit, X_train, X_test, y_train, y_test, imp_features)"
   ]
  },
  {
   "cell_type": "markdown",
   "id": "37be40c2",
   "metadata": {},
   "source": [
    "### Re-fit the best model with the selected features only"
   ]
  },
  {
   "cell_type": "code",
   "execution_count": 10,
   "id": "a4795ef6",
   "metadata": {},
   "outputs": [
    {
     "data": {
      "application/javascript": [
       "\n",
       "            setTimeout(function() {\n",
       "                var nbb_cell_id = 10;\n",
       "                var nbb_unformatted_code = \"best_predictor.fit(X_train, y_train)\\n\\nrf_auc_score, rf_f_score, rf_accuracy, rf_precision, rf_recall = calculate_metrics(\\n    best_predictor, X_test, y_test\\n)\\n(\\n    rf_auc_score_tr,\\n    rf_f_score_tr,\\n    rf_accuracy_tr,\\n    rf_precision_tr,\\n    rf_recall_tr,\\n) = calculate_metrics(best_predictor, X_train, y_train)\";\n",
       "                var nbb_formatted_code = \"best_predictor.fit(X_train, y_train)\\n\\nrf_auc_score, rf_f_score, rf_accuracy, rf_precision, rf_recall = calculate_metrics(\\n    best_predictor, X_test, y_test\\n)\\n(\\n    rf_auc_score_tr,\\n    rf_f_score_tr,\\n    rf_accuracy_tr,\\n    rf_precision_tr,\\n    rf_recall_tr,\\n) = calculate_metrics(best_predictor, X_train, y_train)\";\n",
       "                var nbb_cells = Jupyter.notebook.get_cells();\n",
       "                for (var i = 0; i < nbb_cells.length; ++i) {\n",
       "                    if (nbb_cells[i].input_prompt_number == nbb_cell_id) {\n",
       "                        if (nbb_cells[i].get_text() == nbb_unformatted_code) {\n",
       "                             nbb_cells[i].set_text(nbb_formatted_code);\n",
       "                        }\n",
       "                        break;\n",
       "                    }\n",
       "                }\n",
       "            }, 500);\n",
       "            "
      ],
      "text/plain": [
       "<IPython.core.display.Javascript object>"
      ]
     },
     "metadata": {},
     "output_type": "display_data"
    }
   ],
   "source": [
    "best_predictor.fit(X_train, y_train)\n",
    "\n",
    "rf_auc_score, rf_f_score, rf_accuracy, rf_precision, rf_recall = calculate_metrics(\n",
    "    best_predictor, X_test, y_test\n",
    ")\n",
    "(\n",
    "    rf_auc_score_tr,\n",
    "    rf_f_score_tr,\n",
    "    rf_accuracy_tr,\n",
    "    rf_precision_tr,\n",
    "    rf_recall_tr,\n",
    ") = calculate_metrics(best_predictor, X_train, y_train)"
   ]
  },
  {
   "cell_type": "code",
   "execution_count": 11,
   "id": "7e3a596d",
   "metadata": {},
   "outputs": [
    {
     "data": {
      "application/javascript": [
       "\n",
       "            setTimeout(function() {\n",
       "                var nbb_cell_id = 11;\n",
       "                var nbb_unformatted_code = \"## Get scores for Logit on Test and Train sets\\n(\\n    log_auc_score,\\n    log_f_score,\\n    log_accuracy,\\n    log_precision,\\n    log_recall,\\n) = calculate_stats_logit_metrics(logit, X_test, y_test)\\n(\\n    log_auc_score_tr,\\n    log_f_score_tr,\\n    log_accuracy_tr,\\n    log_precision_tr,\\n    log_recall_tr,\\n) = calculate_stats_logit_metrics(logit, X_train, y_train)\";\n",
       "                var nbb_formatted_code = \"## Get scores for Logit on Test and Train sets\\n(\\n    log_auc_score,\\n    log_f_score,\\n    log_accuracy,\\n    log_precision,\\n    log_recall,\\n) = calculate_stats_logit_metrics(logit, X_test, y_test)\\n(\\n    log_auc_score_tr,\\n    log_f_score_tr,\\n    log_accuracy_tr,\\n    log_precision_tr,\\n    log_recall_tr,\\n) = calculate_stats_logit_metrics(logit, X_train, y_train)\";\n",
       "                var nbb_cells = Jupyter.notebook.get_cells();\n",
       "                for (var i = 0; i < nbb_cells.length; ++i) {\n",
       "                    if (nbb_cells[i].input_prompt_number == nbb_cell_id) {\n",
       "                        if (nbb_cells[i].get_text() == nbb_unformatted_code) {\n",
       "                             nbb_cells[i].set_text(nbb_formatted_code);\n",
       "                        }\n",
       "                        break;\n",
       "                    }\n",
       "                }\n",
       "            }, 500);\n",
       "            "
      ],
      "text/plain": [
       "<IPython.core.display.Javascript object>"
      ]
     },
     "metadata": {},
     "output_type": "display_data"
    }
   ],
   "source": [
    "## Get scores for Logit on Test and Train sets\n",
    "(\n",
    "    log_auc_score,\n",
    "    log_f_score,\n",
    "    log_accuracy,\n",
    "    log_precision,\n",
    "    log_recall,\n",
    ") = calculate_stats_logit_metrics(logit, X_test, y_test)\n",
    "(\n",
    "    log_auc_score_tr,\n",
    "    log_f_score_tr,\n",
    "    log_accuracy_tr,\n",
    "    log_precision_tr,\n",
    "    log_recall_tr,\n",
    ") = calculate_stats_logit_metrics(logit, X_train, y_train)"
   ]
  },
  {
   "cell_type": "code",
   "execution_count": 12,
   "id": "be441634",
   "metadata": {},
   "outputs": [
    {
     "data": {
      "text/html": [
       "<div>\n",
       "<style scoped>\n",
       "    .dataframe tbody tr th:only-of-type {\n",
       "        vertical-align: middle;\n",
       "    }\n",
       "\n",
       "    .dataframe tbody tr th {\n",
       "        vertical-align: top;\n",
       "    }\n",
       "\n",
       "    .dataframe thead th {\n",
       "        text-align: right;\n",
       "    }\n",
       "</style>\n",
       "<table border=\"1\" class=\"dataframe\">\n",
       "  <thead>\n",
       "    <tr style=\"text-align: right;\">\n",
       "      <th></th>\n",
       "      <th>Logit on Test</th>\n",
       "      <th>Logit on Train</th>\n",
       "      <th>Forest on Test</th>\n",
       "      <th>Forest on Train</th>\n",
       "    </tr>\n",
       "  </thead>\n",
       "  <tbody>\n",
       "    <tr>\n",
       "      <th>AUC</th>\n",
       "      <td>0.6780</td>\n",
       "      <td>0.6807</td>\n",
       "      <td>0.7338</td>\n",
       "      <td>0.9300</td>\n",
       "    </tr>\n",
       "    <tr>\n",
       "      <th>Recall</th>\n",
       "      <td>0.3786</td>\n",
       "      <td>0.3837</td>\n",
       "      <td>0.5649</td>\n",
       "      <td>0.7769</td>\n",
       "    </tr>\n",
       "    <tr>\n",
       "      <th>F1</th>\n",
       "      <td>0.4680</td>\n",
       "      <td>0.4710</td>\n",
       "      <td>0.6006</td>\n",
       "      <td>0.8146</td>\n",
       "    </tr>\n",
       "    <tr>\n",
       "      <th>Accuracy</th>\n",
       "      <td>0.6319</td>\n",
       "      <td>0.6345</td>\n",
       "      <td>0.6786</td>\n",
       "      <td>0.8500</td>\n",
       "    </tr>\n",
       "    <tr>\n",
       "      <th>Precision</th>\n",
       "      <td>0.6127</td>\n",
       "      <td>0.6099</td>\n",
       "      <td>0.6410</td>\n",
       "      <td>0.8562</td>\n",
       "    </tr>\n",
       "  </tbody>\n",
       "</table>\n",
       "</div>"
      ],
      "text/plain": [
       "          Logit on Test Logit on Train Forest on Test Forest on Train\n",
       "AUC              0.6780         0.6807         0.7338          0.9300\n",
       "Recall           0.3786         0.3837         0.5649          0.7769\n",
       "F1               0.4680         0.4710         0.6006          0.8146\n",
       "Accuracy         0.6319         0.6345         0.6786          0.8500\n",
       "Precision        0.6127         0.6099         0.6410          0.8562"
      ]
     },
     "execution_count": 12,
     "metadata": {},
     "output_type": "execute_result"
    },
    {
     "data": {
      "application/javascript": [
       "\n",
       "            setTimeout(function() {\n",
       "                var nbb_cell_id = 12;\n",
       "                var nbb_unformatted_code = \"# Combine scores\\nforest_dict = {\\n    \\\"AUC\\\": [f\\\"{rf_auc_score:.4f}\\\", f\\\"{rf_auc_score_tr:.4f}\\\"],\\n    \\\"Recall\\\": [f\\\"{rf_recall:.4f}\\\", f\\\"{rf_recall_tr:.4f}\\\"],\\n    \\\"F1\\\": [f\\\"{rf_f_score:.4f}\\\", f\\\"{rf_f_score_tr:.4f}\\\"],\\n    \\\"Accuracy\\\": [f\\\"{rf_accuracy:.4f}\\\", f\\\"{rf_accuracy_tr:.4f}\\\"],\\n    \\\"Precision\\\": [f\\\"{rf_precision:.4f}\\\", f\\\"{rf_precision_tr:.4f}\\\"],\\n}\\nforest_res = pd.DataFrame(\\n    forest_dict, index=[\\\"Forest on Test\\\", \\\"Forest on Train\\\"]\\n).transpose()\\n\\nlogit_dict = {\\n    \\\"AUC\\\": [f\\\"{log_auc_score:.4f}\\\", f\\\"{log_auc_score_tr:.4f}\\\"],\\n    \\\"Recall\\\": [f\\\"{log_recall:.4f}\\\", f\\\"{log_recall_tr:.4f}\\\"],\\n    \\\"F1\\\": [f\\\"{log_f_score:.4f}\\\", f\\\"{log_f_score_tr:.4f}\\\"],\\n    \\\"Accuracy\\\": [f\\\"{log_accuracy:.4f}\\\", f\\\"{log_accuracy_tr:.4f}\\\"],\\n    \\\"Precision\\\": [f\\\"{log_precision:.4f}\\\", f\\\"{log_precision_tr:.4f}\\\"],\\n}\\nlogit_res = pd.DataFrame(\\n    logit_dict, index=[\\\"Logit on Test\\\", \\\"Logit on Train\\\"]\\n).transpose()\\n\\n\\ncomparison = pd.concat([logit_res, forest_res], axis=1)\\ncomparison\";\n",
       "                var nbb_formatted_code = \"# Combine scores\\nforest_dict = {\\n    \\\"AUC\\\": [f\\\"{rf_auc_score:.4f}\\\", f\\\"{rf_auc_score_tr:.4f}\\\"],\\n    \\\"Recall\\\": [f\\\"{rf_recall:.4f}\\\", f\\\"{rf_recall_tr:.4f}\\\"],\\n    \\\"F1\\\": [f\\\"{rf_f_score:.4f}\\\", f\\\"{rf_f_score_tr:.4f}\\\"],\\n    \\\"Accuracy\\\": [f\\\"{rf_accuracy:.4f}\\\", f\\\"{rf_accuracy_tr:.4f}\\\"],\\n    \\\"Precision\\\": [f\\\"{rf_precision:.4f}\\\", f\\\"{rf_precision_tr:.4f}\\\"],\\n}\\nforest_res = pd.DataFrame(\\n    forest_dict, index=[\\\"Forest on Test\\\", \\\"Forest on Train\\\"]\\n).transpose()\\n\\nlogit_dict = {\\n    \\\"AUC\\\": [f\\\"{log_auc_score:.4f}\\\", f\\\"{log_auc_score_tr:.4f}\\\"],\\n    \\\"Recall\\\": [f\\\"{log_recall:.4f}\\\", f\\\"{log_recall_tr:.4f}\\\"],\\n    \\\"F1\\\": [f\\\"{log_f_score:.4f}\\\", f\\\"{log_f_score_tr:.4f}\\\"],\\n    \\\"Accuracy\\\": [f\\\"{log_accuracy:.4f}\\\", f\\\"{log_accuracy_tr:.4f}\\\"],\\n    \\\"Precision\\\": [f\\\"{log_precision:.4f}\\\", f\\\"{log_precision_tr:.4f}\\\"],\\n}\\nlogit_res = pd.DataFrame(\\n    logit_dict, index=[\\\"Logit on Test\\\", \\\"Logit on Train\\\"]\\n).transpose()\\n\\n\\ncomparison = pd.concat([logit_res, forest_res], axis=1)\\ncomparison\";\n",
       "                var nbb_cells = Jupyter.notebook.get_cells();\n",
       "                for (var i = 0; i < nbb_cells.length; ++i) {\n",
       "                    if (nbb_cells[i].input_prompt_number == nbb_cell_id) {\n",
       "                        if (nbb_cells[i].get_text() == nbb_unformatted_code) {\n",
       "                             nbb_cells[i].set_text(nbb_formatted_code);\n",
       "                        }\n",
       "                        break;\n",
       "                    }\n",
       "                }\n",
       "            }, 500);\n",
       "            "
      ],
      "text/plain": [
       "<IPython.core.display.Javascript object>"
      ]
     },
     "metadata": {},
     "output_type": "display_data"
    }
   ],
   "source": [
    "# Combine scores\n",
    "forest_dict = {\n",
    "    \"AUC\": [f\"{rf_auc_score:.4f}\", f\"{rf_auc_score_tr:.4f}\"],\n",
    "    \"Recall\": [f\"{rf_recall:.4f}\", f\"{rf_recall_tr:.4f}\"],\n",
    "    \"F1\": [f\"{rf_f_score:.4f}\", f\"{rf_f_score_tr:.4f}\"],\n",
    "    \"Accuracy\": [f\"{rf_accuracy:.4f}\", f\"{rf_accuracy_tr:.4f}\"],\n",
    "    \"Precision\": [f\"{rf_precision:.4f}\", f\"{rf_precision_tr:.4f}\"],\n",
    "}\n",
    "forest_res = pd.DataFrame(\n",
    "    forest_dict, index=[\"Forest on Test\", \"Forest on Train\"]\n",
    ").transpose()\n",
    "\n",
    "logit_dict = {\n",
    "    \"AUC\": [f\"{log_auc_score:.4f}\", f\"{log_auc_score_tr:.4f}\"],\n",
    "    \"Recall\": [f\"{log_recall:.4f}\", f\"{log_recall_tr:.4f}\"],\n",
    "    \"F1\": [f\"{log_f_score:.4f}\", f\"{log_f_score_tr:.4f}\"],\n",
    "    \"Accuracy\": [f\"{log_accuracy:.4f}\", f\"{log_accuracy_tr:.4f}\"],\n",
    "    \"Precision\": [f\"{log_precision:.4f}\", f\"{log_precision_tr:.4f}\"],\n",
    "}\n",
    "logit_res = pd.DataFrame(\n",
    "    logit_dict, index=[\"Logit on Test\", \"Logit on Train\"]\n",
    ").transpose()\n",
    "\n",
    "\n",
    "comparison = pd.concat([logit_res, forest_res], axis=1)\n",
    "comparison"
   ]
  },
  {
   "cell_type": "code",
   "execution_count": null,
   "id": "a3f1bd71",
   "metadata": {},
   "outputs": [],
   "source": []
  }
 ],
 "metadata": {
  "kernelspec": {
   "display_name": "Python 3 (ipykernel)",
   "language": "python",
   "name": "python3"
  },
  "language_info": {
   "codemirror_mode": {
    "name": "ipython",
    "version": 3
   },
   "file_extension": ".py",
   "mimetype": "text/x-python",
   "name": "python",
   "nbconvert_exporter": "python",
   "pygments_lexer": "ipython3",
   "version": "3.10.9"
  }
 },
 "nbformat": 4,
 "nbformat_minor": 5
}
