{
 "cells": [
  {
   "cell_type": "code",
   "execution_count": 1,
   "id": "ccb6608c",
   "metadata": {},
   "outputs": [
    {
     "data": {
      "application/javascript": [
       "\n",
       "            setTimeout(function() {\n",
       "                var nbb_cell_id = 1;\n",
       "                var nbb_unformatted_code = \"%load_ext nb_black\";\n",
       "                var nbb_formatted_code = \"%load_ext nb_black\";\n",
       "                var nbb_cells = Jupyter.notebook.get_cells();\n",
       "                for (var i = 0; i < nbb_cells.length; ++i) {\n",
       "                    if (nbb_cells[i].input_prompt_number == nbb_cell_id) {\n",
       "                        if (nbb_cells[i].get_text() == nbb_unformatted_code) {\n",
       "                             nbb_cells[i].set_text(nbb_formatted_code);\n",
       "                        }\n",
       "                        break;\n",
       "                    }\n",
       "                }\n",
       "            }, 500);\n",
       "            "
      ],
      "text/plain": [
       "<IPython.core.display.Javascript object>"
      ]
     },
     "metadata": {},
     "output_type": "display_data"
    }
   ],
   "source": [
    "%load_ext nb_black"
   ]
  },
  {
   "cell_type": "code",
   "execution_count": 2,
   "id": "c6ce0230",
   "metadata": {},
   "outputs": [
    {
     "name": "stderr",
     "output_type": "stream",
     "text": [
      "/Users/suatakbulut/miniconda3/lib/python3.10/site-packages/scipy/__init__.py:146: UserWarning: A NumPy version >=1.16.5 and <1.23.0 is required for this version of SciPy (detected version 1.23.4\n",
      "  warnings.warn(f\"A NumPy version >={np_minversion} and <{np_maxversion}\"\n"
     ]
    },
    {
     "data": {
      "application/javascript": [
       "\n",
       "            setTimeout(function() {\n",
       "                var nbb_cell_id = 2;\n",
       "                var nbb_unformatted_code = \"import warnings\\n\\nimport sys\\n\\nsys.path.insert(0, \\\"../code_workspace\\\")\\n\\nfrom data_prep import *\\nfrom post_analysis import *\\n\\nwarnings.filterwarnings(\\\"ignore\\\")\";\n",
       "                var nbb_formatted_code = \"import warnings\\n\\nimport sys\\n\\nsys.path.insert(0, \\\"../code_workspace\\\")\\n\\nfrom data_prep import *\\nfrom post_analysis import *\\n\\nwarnings.filterwarnings(\\\"ignore\\\")\";\n",
       "                var nbb_cells = Jupyter.notebook.get_cells();\n",
       "                for (var i = 0; i < nbb_cells.length; ++i) {\n",
       "                    if (nbb_cells[i].input_prompt_number == nbb_cell_id) {\n",
       "                        if (nbb_cells[i].get_text() == nbb_unformatted_code) {\n",
       "                             nbb_cells[i].set_text(nbb_formatted_code);\n",
       "                        }\n",
       "                        break;\n",
       "                    }\n",
       "                }\n",
       "            }, 500);\n",
       "            "
      ],
      "text/plain": [
       "<IPython.core.display.Javascript object>"
      ]
     },
     "metadata": {},
     "output_type": "display_data"
    }
   ],
   "source": [
    "import warnings\n",
    "\n",
    "import sys\n",
    "\n",
    "sys.path.insert(0, \"../code_workspace\")\n",
    "\n",
    "from data_prep import *\n",
    "from post_analysis import *\n",
    "\n",
    "warnings.filterwarnings(\"ignore\")"
   ]
  },
  {
   "cell_type": "markdown",
   "id": "322d0f96",
   "metadata": {},
   "source": [
    "### Parameters and variables required"
   ]
  },
  {
   "cell_type": "code",
   "execution_count": 3,
   "id": "d1328fb9",
   "metadata": {},
   "outputs": [
    {
     "data": {
      "application/javascript": [
       "\n",
       "            setTimeout(function() {\n",
       "                var nbb_cell_id = 3;\n",
       "                var nbb_unformatted_code = \"use_saved_one = True\\nunwanted_column_endings = []\\ntest_size = 0.4\\nmodels_path = \\\"../trained_models/results_df_0.77_AUC_0.61_Rec.pkl\\\"\";\n",
       "                var nbb_formatted_code = \"use_saved_one = True\\nunwanted_column_endings = []\\ntest_size = 0.4\\nmodels_path = \\\"../trained_models/results_df_0.77_AUC_0.61_Rec.pkl\\\"\";\n",
       "                var nbb_cells = Jupyter.notebook.get_cells();\n",
       "                for (var i = 0; i < nbb_cells.length; ++i) {\n",
       "                    if (nbb_cells[i].input_prompt_number == nbb_cell_id) {\n",
       "                        if (nbb_cells[i].get_text() == nbb_unformatted_code) {\n",
       "                             nbb_cells[i].set_text(nbb_formatted_code);\n",
       "                        }\n",
       "                        break;\n",
       "                    }\n",
       "                }\n",
       "            }, 500);\n",
       "            "
      ],
      "text/plain": [
       "<IPython.core.display.Javascript object>"
      ]
     },
     "metadata": {},
     "output_type": "display_data"
    }
   ],
   "source": [
    "use_saved_one = True\n",
    "unwanted_column_endings = []\n",
    "test_size = 0.4\n",
    "models_path = \"../trained_models/results_df_0.77_AUC_0.61_Rec.pkl\""
   ]
  },
  {
   "cell_type": "code",
   "execution_count": 4,
   "id": "0ad7a5cc",
   "metadata": {},
   "outputs": [
    {
     "data": {
      "application/javascript": [
       "\n",
       "            setTimeout(function() {\n",
       "                var nbb_cell_id = 4;\n",
       "                var nbb_unformatted_code = \"### Train test splitted data\";\n",
       "                var nbb_formatted_code = \"### Train test splitted data\";\n",
       "                var nbb_cells = Jupyter.notebook.get_cells();\n",
       "                for (var i = 0; i < nbb_cells.length; ++i) {\n",
       "                    if (nbb_cells[i].input_prompt_number == nbb_cell_id) {\n",
       "                        if (nbb_cells[i].get_text() == nbb_unformatted_code) {\n",
       "                             nbb_cells[i].set_text(nbb_formatted_code);\n",
       "                        }\n",
       "                        break;\n",
       "                    }\n",
       "                }\n",
       "            }, 500);\n",
       "            "
      ],
      "text/plain": [
       "<IPython.core.display.Javascript object>"
      ]
     },
     "metadata": {},
     "output_type": "display_data"
    }
   ],
   "source": [
    "### Train test splitted data"
   ]
  },
  {
   "cell_type": "code",
   "execution_count": 5,
   "id": "ad6650b8",
   "metadata": {},
   "outputs": [
    {
     "name": "stdout",
     "output_type": "stream",
     "text": [
      "\n",
      "DATA PREP\n",
      "=========\n",
      "\n",
      "Loading processed data from ../data/processed_dataset.pkl..\n",
      "Excluding the following columns..\n",
      "['patient_id', 'Outcome 30 days Hospitalization', 'Height(in)', 'Weight(lbs)']\n",
      "Shapes: X_train: (108861, 136) - X_test: (72574, 136)\n"
     ]
    },
    {
     "data": {
      "application/javascript": [
       "\n",
       "            setTimeout(function() {\n",
       "                var nbb_cell_id = 5;\n",
       "                var nbb_unformatted_code = \"X_train, X_test, y_train, y_test = prepare_train_test_split(\\n    use_saved_one=use_saved_one,\\n    unwanted_column_endings=unwanted_column_endings,\\n    test_size=test_size,\\n)\";\n",
       "                var nbb_formatted_code = \"X_train, X_test, y_train, y_test = prepare_train_test_split(\\n    use_saved_one=use_saved_one,\\n    unwanted_column_endings=unwanted_column_endings,\\n    test_size=test_size,\\n)\";\n",
       "                var nbb_cells = Jupyter.notebook.get_cells();\n",
       "                for (var i = 0; i < nbb_cells.length; ++i) {\n",
       "                    if (nbb_cells[i].input_prompt_number == nbb_cell_id) {\n",
       "                        if (nbb_cells[i].get_text() == nbb_unformatted_code) {\n",
       "                             nbb_cells[i].set_text(nbb_formatted_code);\n",
       "                        }\n",
       "                        break;\n",
       "                    }\n",
       "                }\n",
       "            }, 500);\n",
       "            "
      ],
      "text/plain": [
       "<IPython.core.display.Javascript object>"
      ]
     },
     "metadata": {},
     "output_type": "display_data"
    }
   ],
   "source": [
    "X_train, X_test, y_train, y_test = prepare_train_test_split(\n",
    "    use_saved_one=use_saved_one,\n",
    "    unwanted_column_endings=unwanted_column_endings,\n",
    "    test_size=test_size,\n",
    ")"
   ]
  },
  {
   "cell_type": "markdown",
   "id": "4f2b3f42",
   "metadata": {},
   "source": [
    "### Single Valued Columns?"
   ]
  },
  {
   "cell_type": "code",
   "execution_count": 6,
   "id": "96d9a75e",
   "metadata": {},
   "outputs": [
    {
     "name": "stdout",
     "output_type": "stream",
     "text": [
      "                            American Indian or Alaska Native | 2\n",
      "           AngiotensinConvertingEnzyme_daily_total_value_avg | 308\n",
      "           AngiotensinConvertingEnzyme_daily_total_value_std | 443\n",
      "   AngiotensinConvertingEnzyme_daily_total_value_trend_slope | 2,321\n",
      "                       AngiotensinConvertingEnzyme_isPresent | 2\n",
      "         AngiotensinIIReceptorBlockers_daily_total_value_avg | 427\n",
      "         AngiotensinIIReceptorBlockers_daily_total_value_std | 475\n",
      " AngiotensinIIReceptorBlockers_daily_total_value_trend_slope | 2,048\n",
      "                     AngiotensinIIReceptorBlockers_isPresent | 2\n",
      "                                                       Asian | 2\n",
      "                                   Black or African American | 2\n",
      "                ChronicObstructivePulmonaryDisease_isPresent | 3\n",
      "                            CongestiveHeartFailure_isPresent | 3\n",
      "                                          Hispanic or Latino | 2\n",
      "                   Native Hawaiian or Other Pacific Islander | 2\n",
      "                                      Not Hispanic or Latino | 2\n",
      "                      P2Y12 antgaonist_daily_total_value_avg | 191\n",
      "                      P2Y12 antgaonist_daily_total_value_std | 212\n",
      "              P2Y12 antgaonist_daily_total_value_trend_slope | 980\n",
      "                                  P2Y12 antgaonist_isPresent | 2\n",
      "                                                         PAD | 2\n",
      "                                                       White | 2\n",
      "                                                         age | 9,630\n",
      "                                 ambulatory status_isPresent | 2\n",
      "                                            anemia_isPresent | 2\n",
      "                         anticoagulant_daily_total_value_avg | 446\n",
      "                         anticoagulant_daily_total_value_std | 592\n",
      "                 anticoagulant_daily_total_value_trend_slope | 2,179\n",
      "                                     anticoagulant_isPresent | 2\n",
      "                               aspirin_daily_total_value_avg | 431\n",
      "                               aspirin_daily_total_value_std | 454\n",
      "                       aspirin_daily_total_value_trend_slope | 2,387\n",
      "                                           aspirin_isPresent | 2\n",
      "                          beta blocker_daily_total_value_avg | 974\n",
      "                          beta blocker_daily_total_value_std | 1,224\n",
      "                  beta blocker_daily_total_value_trend_slope | 4,364\n",
      "                                      beta blocker_isPresent | 2\n",
      "     black_AngiotensinConvertingEnzyme_daily_total_value_avg | 66\n",
      "                 black_AngiotensinConvertingEnzyme_isPresent | 2\n",
      "   black_AngiotensinIIReceptorBlockers_daily_total_value_avg | 110\n",
      "               black_AngiotensinIIReceptorBlockers_isPresent | 2\n",
      "          black_ChronicObstructivePulmonaryDisease_isPresent | 3\n",
      "                      black_CongestiveHeartFailure_isPresent | 3\n",
      "                black_P2Y12 antgaonist_daily_total_value_avg | 44\n",
      "                            black_P2Y12 antgaonist_isPresent | 2\n",
      "                           black_ambulatory status_isPresent | 2\n",
      "                                      black_anemia_isPresent | 2\n",
      "                   black_anticoagulant_daily_total_value_avg | 99\n",
      "                               black_anticoagulant_isPresent | 2\n",
      "                         black_aspirin_daily_total_value_avg | 67\n",
      "                                     black_aspirin_isPresent | 2\n",
      "                    black_beta blocker_daily_total_value_avg | 231\n",
      "                                black_beta blocker_isPresent | 2\n",
      "                                    black_dialysis_isPresent | 2\n",
      "                        black_hypercholesterolemia_isPresent | 3\n",
      "                              black_hyperlipidemia_isPresent | 2\n",
      "                                black_hypertension_isPresent | 2\n",
      "                                     black_smoking_isPresent | 2\n",
      "                          black_statin_daily_total_value_avg | 130\n",
      "                                      black_statin_isPresent | 2\n",
      "                                  black_t1diabetes_isPresent | 3\n",
      "                                  black_t2diabetes_isPresent | 2\n",
      "                                                     bmi_avg | 25,292\n",
      "                                                     bmi_std | 16,078\n",
      "                                             bmi_trend_slope | 20,198\n",
      "                                               dates_nunique | 88\n",
      "                                                 dates_range | 690\n",
      "                                          dialysis_isPresent | 2\n",
      "    female_AngiotensinConvertingEnzyme_daily_total_value_avg | 208\n",
      "                female_AngiotensinConvertingEnzyme_isPresent | 2\n",
      "  female_AngiotensinIIReceptorBlockers_daily_total_value_avg | 298\n",
      "              female_AngiotensinIIReceptorBlockers_isPresent | 2\n",
      "         female_ChronicObstructivePulmonaryDisease_isPresent | 3\n",
      "                     female_CongestiveHeartFailure_isPresent | 3\n",
      "               female_P2Y12 antgaonist_daily_total_value_avg | 109\n",
      "                           female_P2Y12 antgaonist_isPresent | 2\n",
      "                          female_ambulatory status_isPresent | 2\n",
      "                                     female_anemia_isPresent | 2\n",
      "                  female_anticoagulant_daily_total_value_avg | 298\n",
      "                              female_anticoagulant_isPresent | 2\n",
      "                        female_aspirin_daily_total_value_avg | 256\n",
      "                                    female_aspirin_isPresent | 2\n",
      "                   female_beta blocker_daily_total_value_avg | 608\n",
      "                               female_beta blocker_isPresent | 2\n",
      "                                   female_dialysis_isPresent | 2\n",
      "                       female_hypercholesterolemia_isPresent | 3\n",
      "                             female_hyperlipidemia_isPresent | 2\n",
      "                               female_hypertension_isPresent | 2\n",
      "                                    female_smoking_isPresent | 2\n",
      "                         female_statin_daily_total_value_avg | 315\n",
      "                                     female_statin_isPresent | 2\n",
      "                                 female_t1diabetes_isPresent | 3\n",
      "                                 female_t2diabetes_isPresent | 2\n",
      "                              hypercholesterolemia_isPresent | 3\n",
      "                                    hyperlipidemia_isPresent | 2\n",
      "                                      hypertension_isPresent | 2\n",
      "                                                    is_black | 2\n",
      "                                                   is_female | 2\n",
      "                                                   is_senior | 2\n",
      "                                                     labTest | 2\n",
      "                                              num_isPresents | 14\n",
      "    senior_AngiotensinConvertingEnzyme_daily_total_value_avg | 226\n",
      "                senior_AngiotensinConvertingEnzyme_isPresent | 2\n",
      "  senior_AngiotensinIIReceptorBlockers_daily_total_value_avg | 251\n",
      "              senior_AngiotensinIIReceptorBlockers_isPresent | 2\n",
      "         senior_ChronicObstructivePulmonaryDisease_isPresent | 3\n",
      "                     senior_CongestiveHeartFailure_isPresent | 3\n",
      "               senior_P2Y12 antgaonist_daily_total_value_avg | 117\n",
      "                           senior_P2Y12 antgaonist_isPresent | 2\n",
      "                          senior_ambulatory status_isPresent | 2\n",
      "                                     senior_anemia_isPresent | 2\n",
      "                  senior_anticoagulant_daily_total_value_avg | 316\n",
      "                              senior_anticoagulant_isPresent | 2\n",
      "                        senior_aspirin_daily_total_value_avg | 283\n",
      "                                    senior_aspirin_isPresent | 2\n",
      "                   senior_beta blocker_daily_total_value_avg | 629\n",
      "                               senior_beta blocker_isPresent | 2\n",
      "                                   senior_dialysis_isPresent | 2\n",
      "                       senior_hypercholesterolemia_isPresent | 3\n",
      "                             senior_hyperlipidemia_isPresent | 2\n",
      "                               senior_hypertension_isPresent | 2\n",
      "                                    senior_smoking_isPresent | 2\n",
      "                         senior_statin_daily_total_value_avg | 319\n",
      "                                     senior_statin_isPresent | 2\n",
      "                                 senior_t1diabetes_isPresent | 3\n",
      "                                 senior_t2diabetes_isPresent | 2\n",
      "                                           smoking_isPresent | 2\n",
      "                                statin_daily_total_value_avg | 471\n",
      "                                statin_daily_total_value_std | 760\n",
      "                        statin_daily_total_value_trend_slope | 5,415\n",
      "                                            statin_isPresent | 2\n",
      "                                        t1diabetes_isPresent | 3\n",
      "                                        t2diabetes_isPresent | 2\n",
      "                                                  weight_avg | 17,780\n",
      "                                                  weight_std | 14,277\n",
      "                                          weight_trend_slope | 25,887\n",
      "\n",
      "All columns have at least 2 different values.\n"
     ]
    },
    {
     "data": {
      "application/javascript": [
       "\n",
       "            setTimeout(function() {\n",
       "                var nbb_cell_id = 6;\n",
       "                var nbb_unformatted_code = \"single_valued_cols = []\\nfor col in X_train.columns:\\n    nunique = X_train[col].nunique()\\n    if nunique < 2:\\n        single_valued_cols.append(col)\\n    print(f\\\"{col:>60} | {nunique:,}\\\")\\n\\nif single_valued_cols:\\n    for single_valued_col in single_valued_cols:\\n        print(f\\\"{single_valued_cols} has single value.\\\")\\nelse:\\n    print(\\\"\\\\nAll columns have at least 2 different values.\\\")\";\n",
       "                var nbb_formatted_code = \"single_valued_cols = []\\nfor col in X_train.columns:\\n    nunique = X_train[col].nunique()\\n    if nunique < 2:\\n        single_valued_cols.append(col)\\n    print(f\\\"{col:>60} | {nunique:,}\\\")\\n\\nif single_valued_cols:\\n    for single_valued_col in single_valued_cols:\\n        print(f\\\"{single_valued_cols} has single value.\\\")\\nelse:\\n    print(\\\"\\\\nAll columns have at least 2 different values.\\\")\";\n",
       "                var nbb_cells = Jupyter.notebook.get_cells();\n",
       "                for (var i = 0; i < nbb_cells.length; ++i) {\n",
       "                    if (nbb_cells[i].input_prompt_number == nbb_cell_id) {\n",
       "                        if (nbb_cells[i].get_text() == nbb_unformatted_code) {\n",
       "                             nbb_cells[i].set_text(nbb_formatted_code);\n",
       "                        }\n",
       "                        break;\n",
       "                    }\n",
       "                }\n",
       "            }, 500);\n",
       "            "
      ],
      "text/plain": [
       "<IPython.core.display.Javascript object>"
      ]
     },
     "metadata": {},
     "output_type": "display_data"
    }
   ],
   "source": [
    "single_valued_cols = []\n",
    "for col in X_train.columns:\n",
    "    nunique = X_train[col].nunique()\n",
    "    if nunique < 2:\n",
    "        single_valued_cols.append(col)\n",
    "    print(f\"{col:>60} | {nunique:,}\")\n",
    "\n",
    "if single_valued_cols:\n",
    "    for single_valued_col in single_valued_cols:\n",
    "        print(f\"{single_valued_cols} has single value.\")\n",
    "else:\n",
    "    print(\"\\nAll columns have at least 2 different values.\")"
   ]
  },
  {
   "cell_type": "markdown",
   "id": "49ad8808",
   "metadata": {},
   "source": [
    "### Model Results"
   ]
  },
  {
   "cell_type": "code",
   "execution_count": 7,
   "id": "75142674",
   "metadata": {},
   "outputs": [
    {
     "data": {
      "text/html": [
       "<div>\n",
       "<style scoped>\n",
       "    .dataframe tbody tr th:only-of-type {\n",
       "        vertical-align: middle;\n",
       "    }\n",
       "\n",
       "    .dataframe tbody tr th {\n",
       "        vertical-align: top;\n",
       "    }\n",
       "\n",
       "    .dataframe thead th {\n",
       "        text-align: right;\n",
       "    }\n",
       "</style>\n",
       "<table border=\"1\" class=\"dataframe\">\n",
       "  <thead>\n",
       "    <tr style=\"text-align: right;\">\n",
       "      <th></th>\n",
       "      <th>AUC</th>\n",
       "      <th>Recall</th>\n",
       "      <th>Precision</th>\n",
       "      <th>F1_Score</th>\n",
       "      <th>Accuracy</th>\n",
       "    </tr>\n",
       "    <tr>\n",
       "      <th>classifier_class</th>\n",
       "      <th></th>\n",
       "      <th></th>\n",
       "      <th></th>\n",
       "      <th></th>\n",
       "      <th></th>\n",
       "    </tr>\n",
       "  </thead>\n",
       "  <tbody>\n",
       "    <tr>\n",
       "      <th>RandomForestClassifier</th>\n",
       "      <td>0.769360</td>\n",
       "      <td>0.606889</td>\n",
       "      <td>0.674594</td>\n",
       "      <td>0.638952</td>\n",
       "      <td>0.706686</td>\n",
       "    </tr>\n",
       "    <tr>\n",
       "      <th>DecisionTreeClassifier</th>\n",
       "      <td>0.734679</td>\n",
       "      <td>0.566614</td>\n",
       "      <td>0.644530</td>\n",
       "      <td>0.603066</td>\n",
       "      <td>0.681015</td>\n",
       "    </tr>\n",
       "    <tr>\n",
       "      <th>GaussianNB</th>\n",
       "      <td>0.652868</td>\n",
       "      <td>0.560331</td>\n",
       "      <td>0.552130</td>\n",
       "      <td>0.556201</td>\n",
       "      <td>0.617590</td>\n",
       "    </tr>\n",
       "    <tr>\n",
       "      <th>QuadraticDiscriminantAnalysis</th>\n",
       "      <td>0.693367</td>\n",
       "      <td>0.521378</td>\n",
       "      <td>0.597497</td>\n",
       "      <td>0.556848</td>\n",
       "      <td>0.645107</td>\n",
       "    </tr>\n",
       "    <tr>\n",
       "      <th>GradientBoostingClassifier</th>\n",
       "      <td>0.750243</td>\n",
       "      <td>0.479879</td>\n",
       "      <td>0.695461</td>\n",
       "      <td>0.567899</td>\n",
       "      <td>0.687698</td>\n",
       "    </tr>\n",
       "    <tr>\n",
       "      <th>LogisticRegression</th>\n",
       "      <td>0.712588</td>\n",
       "      <td>0.449399</td>\n",
       "      <td>0.651015</td>\n",
       "      <td>0.531737</td>\n",
       "      <td>0.661504</td>\n",
       "    </tr>\n",
       "  </tbody>\n",
       "</table>\n",
       "</div>"
      ],
      "text/plain": [
       "                                    AUC    Recall  Precision  F1_Score  \\\n",
       "classifier_class                                                         \n",
       "RandomForestClassifier         0.769360  0.606889   0.674594  0.638952   \n",
       "DecisionTreeClassifier         0.734679  0.566614   0.644530  0.603066   \n",
       "GaussianNB                     0.652868  0.560331   0.552130  0.556201   \n",
       "QuadraticDiscriminantAnalysis  0.693367  0.521378   0.597497  0.556848   \n",
       "GradientBoostingClassifier     0.750243  0.479879   0.695461  0.567899   \n",
       "LogisticRegression             0.712588  0.449399   0.651015  0.531737   \n",
       "\n",
       "                               Accuracy  \n",
       "classifier_class                         \n",
       "RandomForestClassifier         0.706686  \n",
       "DecisionTreeClassifier         0.681015  \n",
       "GaussianNB                     0.617590  \n",
       "QuadraticDiscriminantAnalysis  0.645107  \n",
       "GradientBoostingClassifier     0.687698  \n",
       "LogisticRegression             0.661504  "
      ]
     },
     "execution_count": 7,
     "metadata": {},
     "output_type": "execute_result"
    },
    {
     "data": {
      "application/javascript": [
       "\n",
       "            setTimeout(function() {\n",
       "                var nbb_cell_id = 7;\n",
       "                var nbb_unformatted_code = \"if not os.path.exists(models_path):\\n    raise ValueError(f\\\"Trained model path {model_path} does not exist.\\\")\\n\\nresults_df = pd.read_pickle(models_path)\\nresults_df.set_index(\\\"classifier_class\\\", drop=True)[\\n    [\\\"AUC\\\", \\\"Recall\\\", \\\"Precision\\\", \\\"F1_Score\\\", \\\"Accuracy\\\"]\\n]\";\n",
       "                var nbb_formatted_code = \"if not os.path.exists(models_path):\\n    raise ValueError(f\\\"Trained model path {model_path} does not exist.\\\")\\n\\nresults_df = pd.read_pickle(models_path)\\nresults_df.set_index(\\\"classifier_class\\\", drop=True)[\\n    [\\\"AUC\\\", \\\"Recall\\\", \\\"Precision\\\", \\\"F1_Score\\\", \\\"Accuracy\\\"]\\n]\";\n",
       "                var nbb_cells = Jupyter.notebook.get_cells();\n",
       "                for (var i = 0; i < nbb_cells.length; ++i) {\n",
       "                    if (nbb_cells[i].input_prompt_number == nbb_cell_id) {\n",
       "                        if (nbb_cells[i].get_text() == nbb_unformatted_code) {\n",
       "                             nbb_cells[i].set_text(nbb_formatted_code);\n",
       "                        }\n",
       "                        break;\n",
       "                    }\n",
       "                }\n",
       "            }, 500);\n",
       "            "
      ],
      "text/plain": [
       "<IPython.core.display.Javascript object>"
      ]
     },
     "metadata": {},
     "output_type": "display_data"
    }
   ],
   "source": [
    "if not os.path.exists(models_path):\n",
    "    raise ValueError(f\"Trained model path {model_path} does not exist.\")\n",
    "\n",
    "results_df = pd.read_pickle(models_path)\n",
    "results_df.set_index(\"classifier_class\", drop=True)[\n",
    "    [\"AUC\", \"Recall\", \"Precision\", \"F1_Score\", \"Accuracy\"]\n",
    "]"
   ]
  },
  {
   "cell_type": "code",
   "execution_count": null,
   "id": "85b969ff",
   "metadata": {},
   "outputs": [],
   "source": []
  }
 ],
 "metadata": {
  "kernelspec": {
   "display_name": "Python 3 (ipykernel)",
   "language": "python",
   "name": "python3"
  },
  "language_info": {
   "codemirror_mode": {
    "name": "ipython",
    "version": 3
   },
   "file_extension": ".py",
   "mimetype": "text/x-python",
   "name": "python",
   "nbconvert_exporter": "python",
   "pygments_lexer": "ipython3",
   "version": "3.10.9"
  }
 },
 "nbformat": 4,
 "nbformat_minor": 5
}
